{
 "cells": [
  {
   "cell_type": "code",
   "execution_count": 1,
   "id": "04243039",
   "metadata": {},
   "outputs": [],
   "source": [
    "import joblib\n",
    "import pandas as pd\n",
    "import seaborn as sb\n",
    "import matplotlib.pyplot as plt"
   ]
  },
  {
   "cell_type": "code",
   "execution_count": 74,
   "id": "c3739fdf",
   "metadata": {},
   "outputs": [],
   "source": [
    "min_coverage = 10"
   ]
  },
  {
   "cell_type": "code",
   "execution_count": 158,
   "id": "636215ca",
   "metadata": {},
   "outputs": [
    {
     "data": {
      "text/plain": [
       "count       33.000000\n",
       "mean     15445.424242\n",
       "std       1070.207487\n",
       "min      14439.000000\n",
       "25%      14689.000000\n",
       "50%      14773.000000\n",
       "75%      16852.000000\n",
       "max      17107.000000\n",
       "dtype: float64"
      ]
     },
     "execution_count": 158,
     "metadata": {},
     "output_type": "execute_result"
    }
   ],
   "source": [
    "data[(data[\"BASE_GT\"] != \"REF\") & (data[\"svtype\"] == 'INS')].groupby('SAMPLE').size().describe()"
   ]
  },
  {
   "cell_type": "code",
   "execution_count": 134,
   "id": "fe88c372",
   "metadata": {},
   "outputs": [
    {
     "data": {
      "text/plain": [
       "0.5624031361108579"
      ]
     },
     "execution_count": 134,
     "metadata": {},
     "output_type": "execute_result"
    }
   ],
   "source": [
    "len(data[(data[\"NumNeighbors\"] != 0) & (data[\"svtype\"] == \"INS\")]) / len(data)"
   ]
  },
  {
   "cell_type": "code",
   "execution_count": 150,
   "id": "d98ac259",
   "metadata": {},
   "outputs": [],
   "source": [
    "data = joblib.load(\"../stats/genotyping.biograph.grch38.jl\")\n",
    "\n",
    "data[\"TRF\"] = data[\"TRF\"].where(~data[\"TRF\"].isna(), False)\n",
    "data[\"state\"] = data[\"BASE_GT\"] == data[\"COMP_GT\"]\n",
    "data[\"DP\"] = data[\"AD_ref\"] + data[\"AD_alt\"]\n",
    "#keep = (data[\"DP\"] >= min_coverage) & (data[\"FT\"]) & (data[\"COMP_GT\"].isin([\"REF\", \"HET\", \"HOM\"]))\n",
    "keep = (data[\"DP\"] >= min_coverage) & (data[\"COMP_GT\"].isin([\"REF\", \"HET\", \"HOM\"]))\n",
    "# Do FT filtering on Paragraph"
   ]
  },
  {
   "cell_type": "code",
   "execution_count": 153,
   "id": "48ab12d8",
   "metadata": {},
   "outputs": [
    {
     "data": {
      "text/plain": [
       "count    33.000000\n",
       "mean      0.510089\n",
       "std       0.016852\n",
       "min       0.457630\n",
       "25%       0.499715\n",
       "50%       0.508751\n",
       "75%       0.525304\n",
       "max       0.536798\n",
       "Name: state, dtype: float64"
      ]
     },
     "execution_count": 153,
     "metadata": {},
     "output_type": "execute_result"
    }
   ],
   "source": [
    "# Per-sample TP percent\n",
    "data[data[\"BASE_GT\"] != \"REF\"].groupby(['SAMPLE'])['state'].mean().describe()"
   ]
  },
  {
   "cell_type": "code",
   "execution_count": 154,
   "id": "d5ec4c85",
   "metadata": {},
   "outputs": [
    {
     "data": {
      "text/plain": [
       "count       33.000000\n",
       "mean     12867.545455\n",
       "std       1351.585946\n",
       "min      10871.000000\n",
       "25%      11856.000000\n",
       "50%      12204.000000\n",
       "75%      14511.000000\n",
       "max      14997.000000\n",
       "dtype: float64"
      ]
     },
     "execution_count": 154,
     "metadata": {},
     "output_type": "execute_result"
    }
   ],
   "source": [
    "data[(data[\"BASE_GT\"] != \"REF\") & data['state']].groupby(['SAMPLE']).size().describe()"
   ]
  },
  {
   "cell_type": "code",
   "execution_count": 155,
   "id": "70b925fb",
   "metadata": {},
   "outputs": [
    {
     "data": {
      "text/plain": [
       "count    33.000000\n",
       "mean      0.913153\n",
       "std       0.005618\n",
       "min       0.887385\n",
       "25%       0.912170\n",
       "50%       0.913124\n",
       "75%       0.915936\n",
       "max       0.925816\n",
       "Name: state, dtype: float64"
      ]
     },
     "execution_count": 155,
     "metadata": {},
     "output_type": "execute_result"
    }
   ],
   "source": [
    "#TN-Rate\n",
    "data[data[\"BASE_GT\"] == \"REF\"].groupby(['SAMPLE'])['state'].mean().describe()"
   ]
  },
  {
   "cell_type": "code",
   "execution_count": 156,
   "id": "d868a223",
   "metadata": {},
   "outputs": [
    {
     "data": {
      "text/plain": [
       "count       33.000000\n",
       "mean     14003.333333\n",
       "std        839.296940\n",
       "min      12071.000000\n",
       "25%      13701.000000\n",
       "50%      13908.000000\n",
       "75%      14193.000000\n",
       "max      17899.000000\n",
       "dtype: float64"
      ]
     },
     "execution_count": 156,
     "metadata": {},
     "output_type": "execute_result"
    }
   ],
   "source": [
    "data[(data[\"BASE_GT\"] == \"REF\") & ~data['state']].groupby(['SAMPLE']).size().describe()"
   ]
  },
  {
   "cell_type": "code",
   "execution_count": 136,
   "id": "b0463514",
   "metadata": {},
   "outputs": [
    {
     "data": {
      "text/plain": [
       "REF    0.864975\n",
       "HET    0.101109\n",
       "HOM    0.033917\n",
       "Name: BASE_GT, dtype: float64"
      ]
     },
     "execution_count": 136,
     "metadata": {},
     "output_type": "execute_result"
    }
   ],
   "source": [
    "data['BASE_GT'].value_counts() / len(data)"
   ]
  },
  {
   "cell_type": "code",
   "execution_count": 137,
   "id": "e0dd6c4a",
   "metadata": {},
   "outputs": [
    {
     "name": "stdout",
     "output_type": "stream",
     "text": [
      "Percent of sites filtered 40.6%\n"
     ]
    }
   ],
   "source": [
    "print(\"Percent of sites filtered %.1f%%\" % ( (1 - keep.sum() / len(data)) * 100))"
   ]
  },
  {
   "cell_type": "code",
   "execution_count": 138,
   "id": "32d5a5bc",
   "metadata": {},
   "outputs": [
    {
     "data": {
      "text/html": [
       "<div>\n",
       "<style scoped>\n",
       "    .dataframe tbody tr th:only-of-type {\n",
       "        vertical-align: middle;\n",
       "    }\n",
       "\n",
       "    .dataframe tbody tr th {\n",
       "        vertical-align: top;\n",
       "    }\n",
       "\n",
       "    .dataframe thead th {\n",
       "        text-align: right;\n",
       "    }\n",
       "</style>\n",
       "<table border=\"1\" class=\"dataframe\">\n",
       "  <thead>\n",
       "    <tr style=\"text-align: right;\">\n",
       "      <th></th>\n",
       "      <th>pct of sites</th>\n",
       "      <th>svtype</th>\n",
       "      <th>NumNeighbors</th>\n",
       "      <th>Overall</th>\n",
       "      <th>Reference</th>\n",
       "      <th>Alternate</th>\n",
       "    </tr>\n",
       "  </thead>\n",
       "  <tbody>\n",
       "    <tr>\n",
       "      <th>0</th>\n",
       "      <td>1.000000</td>\n",
       "      <td>TOT</td>\n",
       "      <td>.</td>\n",
       "      <td>0.598828</td>\n",
       "      <td>0.576825</td>\n",
       "      <td>0.723846</td>\n",
       "    </tr>\n",
       "    <tr>\n",
       "      <th>1</th>\n",
       "      <td>0.297040</td>\n",
       "      <td>TOT</td>\n",
       "      <td>None</td>\n",
       "      <td>0.931706</td>\n",
       "      <td>0.940530</td>\n",
       "      <td>0.897868</td>\n",
       "    </tr>\n",
       "    <tr>\n",
       "      <th>2</th>\n",
       "      <td>0.702960</td>\n",
       "      <td>TOT</td>\n",
       "      <td>Any</td>\n",
       "      <td>0.458167</td>\n",
       "      <td>0.437432</td>\n",
       "      <td>0.602659</td>\n",
       "    </tr>\n",
       "    <tr>\n",
       "      <th>3</th>\n",
       "      <td>0.372856</td>\n",
       "      <td>DEL</td>\n",
       "      <td>.</td>\n",
       "      <td>0.729165</td>\n",
       "      <td>0.719232</td>\n",
       "      <td>0.779317</td>\n",
       "    </tr>\n",
       "    <tr>\n",
       "      <th>4</th>\n",
       "      <td>0.137429</td>\n",
       "      <td>DEL</td>\n",
       "      <td>None</td>\n",
       "      <td>0.954970</td>\n",
       "      <td>0.964104</td>\n",
       "      <td>0.922350</td>\n",
       "    </tr>\n",
       "    <tr>\n",
       "      <th>5</th>\n",
       "      <td>0.235427</td>\n",
       "      <td>DEL</td>\n",
       "      <td>Any</td>\n",
       "      <td>0.597352</td>\n",
       "      <td>0.590266</td>\n",
       "      <td>0.643106</td>\n",
       "    </tr>\n",
       "    <tr>\n",
       "      <th>6</th>\n",
       "      <td>0.627144</td>\n",
       "      <td>INS</td>\n",
       "      <td>.</td>\n",
       "      <td>0.521338</td>\n",
       "      <td>0.494617</td>\n",
       "      <td>0.685004</td>\n",
       "    </tr>\n",
       "    <tr>\n",
       "      <th>7</th>\n",
       "      <td>0.159611</td>\n",
       "      <td>INS</td>\n",
       "      <td>None</td>\n",
       "      <td>0.911676</td>\n",
       "      <td>0.920793</td>\n",
       "      <td>0.874405</td>\n",
       "    </tr>\n",
       "    <tr>\n",
       "      <th>8</th>\n",
       "      <td>0.467533</td>\n",
       "      <td>INS</td>\n",
       "      <td>Any</td>\n",
       "      <td>0.388081</td>\n",
       "      <td>0.361604</td>\n",
       "      <td>0.580117</td>\n",
       "    </tr>\n",
       "  </tbody>\n",
       "</table>\n",
       "</div>"
      ],
      "text/plain": [
       "   pct of sites svtype NumNeighbors   Overall  Reference  Alternate\n",
       "0      1.000000    TOT            .  0.598828   0.576825   0.723846\n",
       "1      0.297040    TOT         None  0.931706   0.940530   0.897868\n",
       "2      0.702960    TOT          Any  0.458167   0.437432   0.602659\n",
       "3      0.372856    DEL            .  0.729165   0.719232   0.779317\n",
       "4      0.137429    DEL         None  0.954970   0.964104   0.922350\n",
       "5      0.235427    DEL          Any  0.597352   0.590266   0.643106\n",
       "6      0.627144    INS            .  0.521338   0.494617   0.685004\n",
       "7      0.159611    INS         None  0.911676   0.920793   0.874405\n",
       "8      0.467533    INS          Any  0.388081   0.361604   0.580117"
      ]
     },
     "execution_count": 138,
     "metadata": {},
     "output_type": "execute_result"
    }
   ],
   "source": [
    "rows = []\n",
    "\n",
    "all_filter = ('TOT', data['svtype'].isin([\"DEL\", \"INS\"]))\n",
    "del_filter = ('DEL', data['svtype'] == 'DEL')\n",
    "ins_filter = ('INS', data['svtype'] == 'INS')\n",
    "\n",
    "all_neigh_filter = ('.', data[\"NumNeighbors\"] != -23)\n",
    "non_neigh_filter = (\"None\", data[\"NumNeighbors\"] == 0)\n",
    "has_neigh_filter = (\"Any\", data[\"NumNeighbors\"] != 0)\n",
    "\n",
    "for label1, sv_filt in [all_filter, del_filter, ins_filter]:\n",
    "    for label2, neigh_filt in [all_neigh_filter, non_neigh_filter, has_neigh_filter]:\n",
    "        view = data[keep & sv_filt & neigh_filt]\n",
    "        sv_percent = len(view) / len(data[keep])\n",
    "        overall_accuracy = view[\"state\"].mean()\n",
    "        ref_accuracy = view[view[\"BASE_GT\"] == 'REF'][\"state\"].mean()\n",
    "        alt_accuracy = view[view[\"BASE_GT\"] != 'REF']['state'].mean()\n",
    "        rows.append([sv_percent, label1, label2, overall_accuracy, ref_accuracy, alt_accuracy])\n",
    "\n",
    "summary = pd.DataFrame(rows, columns=[\"pct of sites\", \"svtype\", \"NumNeighbors\", \"Overall\", \"Reference\", \"Alternate\"])\n",
    "summary\n",
    "# Variables are SVTYPE [DEL, \"INS\"], NumNeighbors ==0 / !=0, \n",
    "# overall accuracy , ref accuracy, alt accuracy, \n",
    "# false presence % (% of sites genotyped as being present, but aren't)\n",
    "# flase absence (% of sites genotyped as being REF, but should be present)\n",
    "# Need to add the 'percent of SVs that fall into each BIN'. This helps reestablith the scale"
   ]
  },
  {
   "cell_type": "code",
   "execution_count": 139,
   "id": "a0a1b7a9",
   "metadata": {},
   "outputs": [],
   "source": [
    "summary.to_csv('bg.txt', sep='\\t', index=False)"
   ]
  },
  {
   "cell_type": "code",
   "execution_count": 86,
   "id": "b5cf96f6",
   "metadata": {},
   "outputs": [
    {
     "data": {
      "text/html": [
       "<div>\n",
       "<style scoped>\n",
       "    .dataframe tbody tr th:only-of-type {\n",
       "        vertical-align: middle;\n",
       "    }\n",
       "\n",
       "    .dataframe tbody tr th {\n",
       "        vertical-align: top;\n",
       "    }\n",
       "\n",
       "    .dataframe thead th {\n",
       "        text-align: right;\n",
       "    }\n",
       "</style>\n",
       "<table border=\"1\" class=\"dataframe\">\n",
       "  <thead>\n",
       "    <tr style=\"text-align: right;\">\n",
       "      <th></th>\n",
       "      <th>AF</th>\n",
       "      <th>MAF</th>\n",
       "      <th>svtype</th>\n",
       "      <th>szbin</th>\n",
       "      <th>REMAP</th>\n",
       "      <th>NumCollapsed</th>\n",
       "      <th>TRF</th>\n",
       "      <th>TRFperiod</th>\n",
       "      <th>TRFcopies</th>\n",
       "      <th>NumNeighbors</th>\n",
       "      <th>...</th>\n",
       "      <th>ASMCOVDN</th>\n",
       "      <th>SAMPLE</th>\n",
       "      <th>BASE_GT</th>\n",
       "      <th>COMP_GT</th>\n",
       "      <th>AD_ref</th>\n",
       "      <th>AD_alt</th>\n",
       "      <th>GQ</th>\n",
       "      <th>FT</th>\n",
       "      <th>state</th>\n",
       "      <th>DP</th>\n",
       "    </tr>\n",
       "    <tr>\n",
       "      <th>key</th>\n",
       "      <th></th>\n",
       "      <th></th>\n",
       "      <th></th>\n",
       "      <th></th>\n",
       "      <th></th>\n",
       "      <th></th>\n",
       "      <th></th>\n",
       "      <th></th>\n",
       "      <th></th>\n",
       "      <th></th>\n",
       "      <th></th>\n",
       "      <th></th>\n",
       "      <th></th>\n",
       "      <th></th>\n",
       "      <th></th>\n",
       "      <th></th>\n",
       "      <th></th>\n",
       "      <th></th>\n",
       "      <th></th>\n",
       "      <th></th>\n",
       "      <th></th>\n",
       "    </tr>\n",
       "  </thead>\n",
       "  <tbody>\n",
       "    <tr>\n",
       "      <th>chr10:100092182-100092183.CCTCTCCCTCTCCCTCTCCCTCTCCCTCTCCCTCTCCCTCTCCCTCTCCCTCTCCCTCTCCCTCTCCCTCTCCCTCTCCCTCTCCCTCTCCCTCTCCCTCTCCCTCTCCCTCTCCCTCTCCCTCTCCCTCTCCCTCTCCCTCTCCCTCTCCCTCTCCCTCTCCCTCTCCCTCTCCCTCTCCCTCTCCCTCTCCCTCTCCCTCTCCCTCTCCCTCTCCCTCTCCCTCTCCCTCTCCCTCTCCCTCTCCCTCTCCCT</th>\n",
       "      <td>0.027778</td>\n",
       "      <td>0.027778</td>\n",
       "      <td>INS</td>\n",
       "      <td>[200,300)</td>\n",
       "      <td>interspersed</td>\n",
       "      <td>1.0</td>\n",
       "      <td>True</td>\n",
       "      <td>6.0</td>\n",
       "      <td>60.299999</td>\n",
       "      <td>2</td>\n",
       "      <td>...</td>\n",
       "      <td>59</td>\n",
       "      <td>HG00096</td>\n",
       "      <td>REF</td>\n",
       "      <td>REF</td>\n",
       "      <td>34</td>\n",
       "      <td>4</td>\n",
       "      <td>369.0</td>\n",
       "      <td>True</td>\n",
       "      <td>True</td>\n",
       "      <td>38</td>\n",
       "    </tr>\n",
       "    <tr>\n",
       "      <th>chr10:100092182-100092183.CTCTCCCTCTCCCTCTCCCTCTCCCTCTCCCTCTCCCTCTCCCTCTCCCTCTCCCTCTCCCTCTCCCTCTCCCTCTCCCTCTCCCTCTCCCTCTCCCTCTCCCTCTCCCTCTCCCTCTCCCTCTCCCTCTCCCTCTCCCTCTCCCTCTCCCTCTCCCTCTCCCTCTCCCTCTCCCTCTCCCTCTCCCTCTCCCTCTCCCTCTCCCTCTCCCTCTCCCTCTCCCTCTCCCTCTCCCTCTCCCTCTCCCTCTCCCTCTCCCTCTCCCTCTCCCTCTCCCTCTCCCTCTCCCTCTCCCTCTCCCTCTCCCTCTCCCTCTCCCTCTCCCTCTCCCTCTCCCTCTCCCTCTCCCTCTCCCT</th>\n",
       "      <td>0.013889</td>\n",
       "      <td>0.013889</td>\n",
       "      <td>INS</td>\n",
       "      <td>[300,400)</td>\n",
       "      <td>interspersed</td>\n",
       "      <td>NaN</td>\n",
       "      <td>True</td>\n",
       "      <td>6.0</td>\n",
       "      <td>77.300003</td>\n",
       "      <td>2</td>\n",
       "      <td>...</td>\n",
       "      <td>59</td>\n",
       "      <td>HG00096</td>\n",
       "      <td>REF</td>\n",
       "      <td>REF</td>\n",
       "      <td>34</td>\n",
       "      <td>4</td>\n",
       "      <td>369.0</td>\n",
       "      <td>True</td>\n",
       "      <td>True</td>\n",
       "      <td>38</td>\n",
       "    </tr>\n",
       "    <tr>\n",
       "      <th>chr10:100092192-100092193.TCCCTCTCCCTCTCCCTCTCCCTCTCCCTCTCCCTCTCCCTCTCCCTCTCCCTCTCCCTCTCCCTCTCCCTCTCCCTCTCCCTCTCCCTCTCCCTCTCCCTCTCCCTCTCCCTCTCCCTCTCCCTCTCCCTCTCCCTCTCCCTCTCCCTCTCCCTCTCCCTCTCCCTCTCCCTCTCCCTCTCCCTCTCCCTCTCCCTCTCCCTCTCCCTCTCCCTCTCCCTCTCCCTCTC</th>\n",
       "      <td>0.013889</td>\n",
       "      <td>0.013889</td>\n",
       "      <td>INS</td>\n",
       "      <td>[200,300)</td>\n",
       "      <td>interspersed</td>\n",
       "      <td>NaN</td>\n",
       "      <td>True</td>\n",
       "      <td>6.0</td>\n",
       "      <td>56.299999</td>\n",
       "      <td>2</td>\n",
       "      <td>...</td>\n",
       "      <td>59</td>\n",
       "      <td>HG00096</td>\n",
       "      <td>REF</td>\n",
       "      <td>REF</td>\n",
       "      <td>36</td>\n",
       "      <td>4</td>\n",
       "      <td>393.0</td>\n",
       "      <td>True</td>\n",
       "      <td>True</td>\n",
       "      <td>40</td>\n",
       "    </tr>\n",
       "    <tr>\n",
       "      <th>chr10:100093489-100093490.TGGGGGGGGTCAGCCCCCCTGCCCGGCCAGCCGCCCCGTCCGGGAGGTGAGGGGCGCCTCTGCCCGGCCGCCCCTACTGGGAAGTGAGGAGCCCCTCTGCCCGGCCAGCTGCCCCGTCCGCGAGGGAGG</th>\n",
       "      <td>0.027778</td>\n",
       "      <td>0.027778</td>\n",
       "      <td>INS</td>\n",
       "      <td>[100,200)</td>\n",
       "      <td>interspersed</td>\n",
       "      <td>NaN</td>\n",
       "      <td>True</td>\n",
       "      <td>127.0</td>\n",
       "      <td>2.700000</td>\n",
       "      <td>6</td>\n",
       "      <td>...</td>\n",
       "      <td>72</td>\n",
       "      <td>HG00096</td>\n",
       "      <td>REF</td>\n",
       "      <td>HET</td>\n",
       "      <td>30</td>\n",
       "      <td>47</td>\n",
       "      <td>30.0</td>\n",
       "      <td>False</td>\n",
       "      <td>False</td>\n",
       "      <td>77</td>\n",
       "    </tr>\n",
       "    <tr>\n",
       "      <th>chr10:100093500-100093501.GGTCAGCCCCCCTGCCCGGCCAGCCGCCCCGTCCGGGAGGGAGGTGGGGGGGGGTCAGCCCCCCTGCCCGGCCAGCCGCCCCGTCCGGGAGGTGAGGGGCGCCTCTGCCCGGCCGCCCCTACTGGGAAGTGAGGAGCCCCTCTGCCCGGCCAGCTGCCCCGTCCGCGAGGGAGGTGGGGGGGGTCAGCCCCCCGCCCGGCCAGCTGCCCCATCCGGGAGGGAGGTGGGGGGGGTCAGC</th>\n",
       "      <td>0.013889</td>\n",
       "      <td>0.013889</td>\n",
       "      <td>INS</td>\n",
       "      <td>[200,300)</td>\n",
       "      <td>interspersed</td>\n",
       "      <td>NaN</td>\n",
       "      <td>True</td>\n",
       "      <td>127.0</td>\n",
       "      <td>7.700000</td>\n",
       "      <td>6</td>\n",
       "      <td>...</td>\n",
       "      <td>72</td>\n",
       "      <td>HG00096</td>\n",
       "      <td>REF</td>\n",
       "      <td>HET</td>\n",
       "      <td>25</td>\n",
       "      <td>20</td>\n",
       "      <td>195.0</td>\n",
       "      <td>True</td>\n",
       "      <td>False</td>\n",
       "      <td>45</td>\n",
       "    </tr>\n",
       "  </tbody>\n",
       "</table>\n",
       "<p>5 rows × 21 columns</p>\n",
       "</div>"
      ],
      "text/plain": [
       "                                                          AF       MAF svtype  \\\n",
       "key                                                                             \n",
       "chr10:100092182-100092183.CCTCTCCCTCTCCCTCTCCCT...  0.027778  0.027778    INS   \n",
       "chr10:100092182-100092183.CTCTCCCTCTCCCTCTCCCTC...  0.013889  0.013889    INS   \n",
       "chr10:100092192-100092193.TCCCTCTCCCTCTCCCTCTCC...  0.013889  0.013889    INS   \n",
       "chr10:100093489-100093490.TGGGGGGGGTCAGCCCCCCTG...  0.027778  0.027778    INS   \n",
       "chr10:100093500-100093501.GGTCAGCCCCCCTGCCCGGCC...  0.013889  0.013889    INS   \n",
       "\n",
       "                                                        szbin         REMAP  \\\n",
       "key                                                                           \n",
       "chr10:100092182-100092183.CCTCTCCCTCTCCCTCTCCCT...  [200,300)  interspersed   \n",
       "chr10:100092182-100092183.CTCTCCCTCTCCCTCTCCCTC...  [300,400)  interspersed   \n",
       "chr10:100092192-100092193.TCCCTCTCCCTCTCCCTCTCC...  [200,300)  interspersed   \n",
       "chr10:100093489-100093490.TGGGGGGGGTCAGCCCCCCTG...  [100,200)  interspersed   \n",
       "chr10:100093500-100093501.GGTCAGCCCCCCTGCCCGGCC...  [200,300)  interspersed   \n",
       "\n",
       "                                                    NumCollapsed   TRF  \\\n",
       "key                                                                      \n",
       "chr10:100092182-100092183.CCTCTCCCTCTCCCTCTCCCT...           1.0  True   \n",
       "chr10:100092182-100092183.CTCTCCCTCTCCCTCTCCCTC...           NaN  True   \n",
       "chr10:100092192-100092193.TCCCTCTCCCTCTCCCTCTCC...           NaN  True   \n",
       "chr10:100093489-100093490.TGGGGGGGGTCAGCCCCCCTG...           NaN  True   \n",
       "chr10:100093500-100093501.GGTCAGCCCCCCTGCCCGGCC...           NaN  True   \n",
       "\n",
       "                                                    TRFperiod  TRFcopies  \\\n",
       "key                                                                        \n",
       "chr10:100092182-100092183.CCTCTCCCTCTCCCTCTCCCT...        6.0  60.299999   \n",
       "chr10:100092182-100092183.CTCTCCCTCTCCCTCTCCCTC...        6.0  77.300003   \n",
       "chr10:100092192-100092193.TCCCTCTCCCTCTCCCTCTCC...        6.0  56.299999   \n",
       "chr10:100093489-100093490.TGGGGGGGGTCAGCCCCCCTG...      127.0   2.700000   \n",
       "chr10:100093500-100093501.GGTCAGCCCCCCTGCCCGGCC...      127.0   7.700000   \n",
       "\n",
       "                                                    NumNeighbors  ...  \\\n",
       "key                                                               ...   \n",
       "chr10:100092182-100092183.CCTCTCCCTCTCCCTCTCCCT...             2  ...   \n",
       "chr10:100092182-100092183.CTCTCCCTCTCCCTCTCCCTC...             2  ...   \n",
       "chr10:100092192-100092193.TCCCTCTCCCTCTCCCTCTCC...             2  ...   \n",
       "chr10:100093489-100093490.TGGGGGGGGTCAGCCCCCCTG...             6  ...   \n",
       "chr10:100093500-100093501.GGTCAGCCCCCCTGCCCGGCC...             6  ...   \n",
       "\n",
       "                                                    ASMCOVDN   SAMPLE BASE_GT  \\\n",
       "key                                                                             \n",
       "chr10:100092182-100092183.CCTCTCCCTCTCCCTCTCCCT...        59  HG00096     REF   \n",
       "chr10:100092182-100092183.CTCTCCCTCTCCCTCTCCCTC...        59  HG00096     REF   \n",
       "chr10:100092192-100092193.TCCCTCTCCCTCTCCCTCTCC...        59  HG00096     REF   \n",
       "chr10:100093489-100093490.TGGGGGGGGTCAGCCCCCCTG...        72  HG00096     REF   \n",
       "chr10:100093500-100093501.GGTCAGCCCCCCTGCCCGGCC...        72  HG00096     REF   \n",
       "\n",
       "                                                   COMP_GT AD_ref AD_alt  \\\n",
       "key                                                                        \n",
       "chr10:100092182-100092183.CCTCTCCCTCTCCCTCTCCCT...     REF     34      4   \n",
       "chr10:100092182-100092183.CTCTCCCTCTCCCTCTCCCTC...     REF     34      4   \n",
       "chr10:100092192-100092193.TCCCTCTCCCTCTCCCTCTCC...     REF     36      4   \n",
       "chr10:100093489-100093490.TGGGGGGGGTCAGCCCCCCTG...     HET     30     47   \n",
       "chr10:100093500-100093501.GGTCAGCCCCCCTGCCCGGCC...     HET     25     20   \n",
       "\n",
       "                                                       GQ     FT  state  DP  \n",
       "key                                                                          \n",
       "chr10:100092182-100092183.CCTCTCCCTCTCCCTCTCCCT...  369.0   True   True  38  \n",
       "chr10:100092182-100092183.CTCTCCCTCTCCCTCTCCCTC...  369.0   True   True  38  \n",
       "chr10:100092192-100092193.TCCCTCTCCCTCTCCCTCTCC...  393.0   True   True  40  \n",
       "chr10:100093489-100093490.TGGGGGGGGTCAGCCCCCCTG...   30.0  False  False  77  \n",
       "chr10:100093500-100093501.GGTCAGCCCCCCTGCCCGGCC...  195.0   True  False  45  \n",
       "\n",
       "[5 rows x 21 columns]"
      ]
     },
     "execution_count": 86,
     "metadata": {},
     "output_type": "execute_result"
    }
   ],
   "source": [
    "# How many variants are there on reference?\n",
    "# How many variants are filtered\n",
    "# What's the filtered accuracy\n",
    "# What's the filtered accuracy by type\n",
    "# What's the filered accuracy by NumNeighbors\n",
    "# Any difference by REMAP - sorta - novel are the highest and tandem is lowest."
   ]
  },
  {
   "cell_type": "code",
   "execution_count": 141,
   "id": "173410a5",
   "metadata": {},
   "outputs": [
    {
     "data": {
      "text/plain": [
       "SAMPLE\n",
       "HG00096    0.653538\n",
       "HG00171    0.657324\n",
       "HG00512    0.646847\n",
       "HG00513    0.657125\n",
       "HG00514    0.649975\n",
       "HG00731    0.648847\n",
       "HG00732    0.645362\n",
       "HG00733    0.667391\n",
       "HG00864    0.646684\n",
       "HG01114    0.653047\n",
       "HG01505    0.641361\n",
       "HG01596    0.645268\n",
       "HG02011    0.662555\n",
       "HG02492    0.649420\n",
       "HG02587    0.651833\n",
       "HG02818    0.665492\n",
       "HG03009    0.642054\n",
       "HG03065    0.656387\n",
       "HG03125    0.665671\n",
       "HG03371    0.656513\n",
       "HG03486    0.664773\n",
       "HG03683    0.654681\n",
       "HG03732    0.654716\n",
       "NA12329    0.650948\n",
       "NA18534    0.642084\n",
       "NA18939    0.643001\n",
       "NA19238    0.660916\n",
       "NA19239    0.649631\n",
       "NA19240    0.654202\n",
       "NA19650    0.661382\n",
       "NA19983    0.654113\n",
       "NA20509    0.654208\n",
       "NA20847    0.650068\n",
       "Name: state, dtype: float64"
      ]
     },
     "execution_count": 141,
     "metadata": {},
     "output_type": "execute_result"
    }
   ],
   "source": []
  },
  {
   "cell_type": "code",
   "execution_count": 87,
   "id": "6cf90d46",
   "metadata": {},
   "outputs": [],
   "source": [
    "# On average, samples have genotyping accuracy of"
   ]
  },
  {
   "cell_type": "code",
   "execution_count": 98,
   "id": "88c7fc8b",
   "metadata": {},
   "outputs": [
    {
     "data": {
      "text/plain": [
       "REMAP\n",
       "interspersed    0.677802\n",
       "novel           0.781912\n",
       "partial         0.686782\n",
       "tandem          0.449701\n",
       "Name: state, dtype: float64"
      ]
     },
     "execution_count": 98,
     "metadata": {},
     "output_type": "execute_result"
    }
   ],
   "source": [
    "data[keep].groupby(['REMAP'])['state'].mean()"
   ]
  },
  {
   "cell_type": "code",
   "execution_count": 89,
   "id": "bd415c30",
   "metadata": {},
   "outputs": [],
   "source": [
    "# how many variants were genotyped"
   ]
  },
  {
   "cell_type": "code",
   "execution_count": 90,
   "id": "331d0a29",
   "metadata": {},
   "outputs": [
    {
     "data": {
      "text/plain": [
       "count        33.000000\n",
       "mean     110827.272727\n",
       "std        2090.137799\n",
       "min      107738.000000\n",
       "25%      109537.000000\n",
       "50%      110580.000000\n",
       "75%      111754.000000\n",
       "max      119255.000000\n",
       "dtype: float64"
      ]
     },
     "execution_count": 90,
     "metadata": {},
     "output_type": "execute_result"
    }
   ],
   "source": [
    "data[keep].groupby(['SAMPLE']).size().describe()"
   ]
  },
  {
   "cell_type": "code",
   "execution_count": 91,
   "id": "148b6bba",
   "metadata": {},
   "outputs": [
    {
     "data": {
      "text/plain": [
       "count    33.000000\n",
       "mean      0.864975\n",
       "std       0.010327\n",
       "min       0.848938\n",
       "25%       0.851298\n",
       "50%       0.871595\n",
       "75%       0.872738\n",
       "max       0.874025\n",
       "dtype: float64"
      ]
     },
     "execution_count": 91,
     "metadata": {},
     "output_type": "execute_result"
    }
   ],
   "source": [
    "# However, N% of variants in the graph-reference are ref HOM\n",
    "(data.groupby(['SAMPLE', 'BASE_GT']).size() / 186473).loc[:, 'REF'].describe()"
   ]
  },
  {
   "cell_type": "code",
   "execution_count": 92,
   "id": "2e0b7cc5",
   "metadata": {},
   "outputs": [],
   "source": [
    "# Therefore, looking at the genotyping accuracy of only present sites"
   ]
  },
  {
   "cell_type": "code",
   "execution_count": 93,
   "id": "2d00d516",
   "metadata": {},
   "outputs": [
    {
     "data": {
      "text/plain": [
       "count    33.000000\n",
       "mean      0.723652\n",
       "std       0.007083\n",
       "min       0.711968\n",
       "25%       0.718237\n",
       "50%       0.722258\n",
       "75%       0.727606\n",
       "max       0.739166\n",
       "Name: state, dtype: float64"
      ]
     },
     "execution_count": 93,
     "metadata": {},
     "output_type": "execute_result"
    }
   ],
   "source": [
    "data[(keep) & (data[\"BASE_GT\"] != \"REF\")].groupby(['SAMPLE'])['state'].mean().describe()"
   ]
  },
  {
   "cell_type": "code",
   "execution_count": 94,
   "id": "782141e0",
   "metadata": {
    "scrolled": true
   },
   "outputs": [
    {
     "data": {
      "text/html": [
       "<div>\n",
       "<style scoped>\n",
       "    .dataframe tbody tr th:only-of-type {\n",
       "        vertical-align: middle;\n",
       "    }\n",
       "\n",
       "    .dataframe tbody tr th {\n",
       "        vertical-align: top;\n",
       "    }\n",
       "\n",
       "    .dataframe thead th {\n",
       "        text-align: right;\n",
       "    }\n",
       "</style>\n",
       "<table border=\"1\" class=\"dataframe\">\n",
       "  <thead>\n",
       "    <tr style=\"text-align: right;\">\n",
       "      <th>svtype</th>\n",
       "      <th>DEL</th>\n",
       "      <th>INS</th>\n",
       "    </tr>\n",
       "  </thead>\n",
       "  <tbody>\n",
       "    <tr>\n",
       "      <th>count</th>\n",
       "      <td>33.000000</td>\n",
       "      <td>33.000000</td>\n",
       "    </tr>\n",
       "    <tr>\n",
       "      <th>mean</th>\n",
       "      <td>0.778690</td>\n",
       "      <td>0.685117</td>\n",
       "    </tr>\n",
       "    <tr>\n",
       "      <th>std</th>\n",
       "      <td>0.009154</td>\n",
       "      <td>0.008383</td>\n",
       "    </tr>\n",
       "    <tr>\n",
       "      <th>min</th>\n",
       "      <td>0.764849</td>\n",
       "      <td>0.663459</td>\n",
       "    </tr>\n",
       "    <tr>\n",
       "      <th>25%</th>\n",
       "      <td>0.772061</td>\n",
       "      <td>0.681329</td>\n",
       "    </tr>\n",
       "    <tr>\n",
       "      <th>50%</th>\n",
       "      <td>0.777367</td>\n",
       "      <td>0.684913</td>\n",
       "    </tr>\n",
       "    <tr>\n",
       "      <th>75%</th>\n",
       "      <td>0.785029</td>\n",
       "      <td>0.689548</td>\n",
       "    </tr>\n",
       "    <tr>\n",
       "      <th>max</th>\n",
       "      <td>0.797981</td>\n",
       "      <td>0.705369</td>\n",
       "    </tr>\n",
       "  </tbody>\n",
       "</table>\n",
       "</div>"
      ],
      "text/plain": [
       "svtype        DEL        INS\n",
       "count   33.000000  33.000000\n",
       "mean     0.778690   0.685117\n",
       "std      0.009154   0.008383\n",
       "min      0.764849   0.663459\n",
       "25%      0.772061   0.681329\n",
       "50%      0.777367   0.684913\n",
       "75%      0.785029   0.689548\n",
       "max      0.797981   0.705369"
      ]
     },
     "execution_count": 94,
     "metadata": {},
     "output_type": "execute_result"
    }
   ],
   "source": [
    "# There is a difference by SVTYPE\n",
    "data[(keep) & (data[\"BASE_GT\"] != \"REF\")].groupby(['SAMPLE', 'svtype'])['state'].mean().unstack()[[\"DEL\", \"INS\"]].describe()"
   ]
  },
  {
   "cell_type": "code",
   "execution_count": 95,
   "id": "54260f09",
   "metadata": {},
   "outputs": [
    {
     "data": {
      "text/html": [
       "<div>\n",
       "<style scoped>\n",
       "    .dataframe tbody tr th:only-of-type {\n",
       "        vertical-align: middle;\n",
       "    }\n",
       "\n",
       "    .dataframe tbody tr th {\n",
       "        vertical-align: top;\n",
       "    }\n",
       "\n",
       "    .dataframe thead th {\n",
       "        text-align: right;\n",
       "    }\n",
       "</style>\n",
       "<table border=\"1\" class=\"dataframe\">\n",
       "  <thead>\n",
       "    <tr style=\"text-align: right;\">\n",
       "      <th>svtype</th>\n",
       "      <th>DEL</th>\n",
       "      <th>INS</th>\n",
       "    </tr>\n",
       "  </thead>\n",
       "  <tbody>\n",
       "    <tr>\n",
       "      <th>count</th>\n",
       "      <td>33.000000</td>\n",
       "      <td>33.000000</td>\n",
       "    </tr>\n",
       "    <tr>\n",
       "      <th>mean</th>\n",
       "      <td>0.922017</td>\n",
       "      <td>0.874445</td>\n",
       "    </tr>\n",
       "    <tr>\n",
       "      <th>std</th>\n",
       "      <td>0.005894</td>\n",
       "      <td>0.012107</td>\n",
       "    </tr>\n",
       "    <tr>\n",
       "      <th>min</th>\n",
       "      <td>0.908555</td>\n",
       "      <td>0.834865</td>\n",
       "    </tr>\n",
       "    <tr>\n",
       "      <th>25%</th>\n",
       "      <td>0.917862</td>\n",
       "      <td>0.872152</td>\n",
       "    </tr>\n",
       "    <tr>\n",
       "      <th>50%</th>\n",
       "      <td>0.922674</td>\n",
       "      <td>0.876270</td>\n",
       "    </tr>\n",
       "    <tr>\n",
       "      <th>75%</th>\n",
       "      <td>0.925717</td>\n",
       "      <td>0.881287</td>\n",
       "    </tr>\n",
       "    <tr>\n",
       "      <th>max</th>\n",
       "      <td>0.933226</td>\n",
       "      <td>0.894393</td>\n",
       "    </tr>\n",
       "  </tbody>\n",
       "</table>\n",
       "</div>"
      ],
      "text/plain": [
       "svtype        DEL        INS\n",
       "count   33.000000  33.000000\n",
       "mean     0.922017   0.874445\n",
       "std      0.005894   0.012107\n",
       "min      0.908555   0.834865\n",
       "25%      0.917862   0.872152\n",
       "50%      0.922674   0.876270\n",
       "75%      0.925717   0.881287\n",
       "max      0.933226   0.894393"
      ]
     },
     "execution_count": 95,
     "metadata": {},
     "output_type": "execute_result"
    }
   ],
   "source": [
    "# But the bit difference is by if there's another call nearby (within numneigh)\n",
    "data[(keep) & (data[\"BASE_GT\"] != \"REF\") & (data[\"NumNeighbors\"] == 0)].groupby(['SAMPLE', 'svtype'])['state'].mean().unstack()[[\"DEL\", \"INS\"]].describe()"
   ]
  },
  {
   "cell_type": "code",
   "execution_count": 96,
   "id": "a9aeaa5b",
   "metadata": {},
   "outputs": [
    {
     "data": {
      "text/html": [
       "<div>\n",
       "<style scoped>\n",
       "    .dataframe tbody tr th:only-of-type {\n",
       "        vertical-align: middle;\n",
       "    }\n",
       "\n",
       "    .dataframe tbody tr th {\n",
       "        vertical-align: top;\n",
       "    }\n",
       "\n",
       "    .dataframe thead th {\n",
       "        text-align: right;\n",
       "    }\n",
       "</style>\n",
       "<table border=\"1\" class=\"dataframe\">\n",
       "  <thead>\n",
       "    <tr style=\"text-align: right;\">\n",
       "      <th>svtype</th>\n",
       "      <th>DEL</th>\n",
       "      <th>INS</th>\n",
       "    </tr>\n",
       "  </thead>\n",
       "  <tbody>\n",
       "    <tr>\n",
       "      <th>count</th>\n",
       "      <td>33.000000</td>\n",
       "      <td>33.000000</td>\n",
       "    </tr>\n",
       "    <tr>\n",
       "      <th>mean</th>\n",
       "      <td>0.642380</td>\n",
       "      <td>0.580434</td>\n",
       "    </tr>\n",
       "    <tr>\n",
       "      <th>std</th>\n",
       "      <td>0.014098</td>\n",
       "      <td>0.010267</td>\n",
       "    </tr>\n",
       "    <tr>\n",
       "      <th>min</th>\n",
       "      <td>0.616840</td>\n",
       "      <td>0.559496</td>\n",
       "    </tr>\n",
       "    <tr>\n",
       "      <th>25%</th>\n",
       "      <td>0.632084</td>\n",
       "      <td>0.575622</td>\n",
       "    </tr>\n",
       "    <tr>\n",
       "      <th>50%</th>\n",
       "      <td>0.643318</td>\n",
       "      <td>0.580213</td>\n",
       "    </tr>\n",
       "    <tr>\n",
       "      <th>75%</th>\n",
       "      <td>0.650393</td>\n",
       "      <td>0.584881</td>\n",
       "    </tr>\n",
       "    <tr>\n",
       "      <th>max</th>\n",
       "      <td>0.678015</td>\n",
       "      <td>0.609581</td>\n",
       "    </tr>\n",
       "  </tbody>\n",
       "</table>\n",
       "</div>"
      ],
      "text/plain": [
       "svtype        DEL        INS\n",
       "count   33.000000  33.000000\n",
       "mean     0.642380   0.580434\n",
       "std      0.014098   0.010267\n",
       "min      0.616840   0.559496\n",
       "25%      0.632084   0.575622\n",
       "50%      0.643318   0.580213\n",
       "75%      0.650393   0.584881\n",
       "max      0.678015   0.609581"
      ]
     },
     "execution_count": 96,
     "metadata": {},
     "output_type": "execute_result"
    }
   ],
   "source": [
    "data[(keep) & (data[\"BASE_GT\"] != \"REF\") \n",
    "     & (data[\"NumNeighbors\"] != 0)].groupby(['SAMPLE', 'svtype'])['state'].mean().unstack()[[\"DEL\", \"INS\"]].describe()\n",
    "\n"
   ]
  },
  {
   "cell_type": "code",
   "execution_count": 97,
   "id": "b97d32fa",
   "metadata": {},
   "outputs": [
    {
     "data": {
      "text/html": [
       "<div>\n",
       "<style scoped>\n",
       "    .dataframe tbody tr th:only-of-type {\n",
       "        vertical-align: middle;\n",
       "    }\n",
       "\n",
       "    .dataframe tbody tr th {\n",
       "        vertical-align: top;\n",
       "    }\n",
       "\n",
       "    .dataframe thead th {\n",
       "        text-align: right;\n",
       "    }\n",
       "</style>\n",
       "<table border=\"1\" class=\"dataframe\">\n",
       "  <thead>\n",
       "    <tr style=\"text-align: right;\">\n",
       "      <th>BASE_GT</th>\n",
       "      <th>HET</th>\n",
       "      <th>HOM</th>\n",
       "      <th>REF</th>\n",
       "    </tr>\n",
       "  </thead>\n",
       "  <tbody>\n",
       "    <tr>\n",
       "      <th>count</th>\n",
       "      <td>33.000000</td>\n",
       "      <td>33.000000</td>\n",
       "      <td>33.000000</td>\n",
       "    </tr>\n",
       "    <tr>\n",
       "      <th>mean</th>\n",
       "      <td>0.666418</td>\n",
       "      <td>0.864326</td>\n",
       "      <td>0.576681</td>\n",
       "    </tr>\n",
       "    <tr>\n",
       "      <th>std</th>\n",
       "      <td>0.014434</td>\n",
       "      <td>0.007461</td>\n",
       "      <td>0.015343</td>\n",
       "    </tr>\n",
       "    <tr>\n",
       "      <th>min</th>\n",
       "      <td>0.639163</td>\n",
       "      <td>0.851233</td>\n",
       "      <td>0.544987</td>\n",
       "    </tr>\n",
       "    <tr>\n",
       "      <th>25%</th>\n",
       "      <td>0.657736</td>\n",
       "      <td>0.857236</td>\n",
       "      <td>0.561375</td>\n",
       "    </tr>\n",
       "    <tr>\n",
       "      <th>50%</th>\n",
       "      <td>0.663963</td>\n",
       "      <td>0.865695</td>\n",
       "      <td>0.583242</td>\n",
       "    </tr>\n",
       "    <tr>\n",
       "      <th>75%</th>\n",
       "      <td>0.678350</td>\n",
       "      <td>0.870232</td>\n",
       "      <td>0.587740</td>\n",
       "    </tr>\n",
       "    <tr>\n",
       "      <th>max</th>\n",
       "      <td>0.693615</td>\n",
       "      <td>0.876554</td>\n",
       "      <td>0.599044</td>\n",
       "    </tr>\n",
       "  </tbody>\n",
       "</table>\n",
       "</div>"
      ],
      "text/plain": [
       "BASE_GT        HET        HOM        REF\n",
       "count    33.000000  33.000000  33.000000\n",
       "mean      0.666418   0.864326   0.576681\n",
       "std       0.014434   0.007461   0.015343\n",
       "min       0.639163   0.851233   0.544987\n",
       "25%       0.657736   0.857236   0.561375\n",
       "50%       0.663963   0.865695   0.583242\n",
       "75%       0.678350   0.870232   0.587740\n",
       "max       0.693615   0.876554   0.599044"
      ]
     },
     "execution_count": 97,
     "metadata": {},
     "output_type": "execute_result"
    }
   ],
   "source": [
    "# And there's a difference in accuracy by the BASE GT type\n",
    "data[keep].groupby(['SAMPLE', 'BASE_GT'])['state'].mean().unstack().describe()"
   ]
  },
  {
   "cell_type": "code",
   "execution_count": 46,
   "id": "7d39244a",
   "metadata": {},
   "outputs": [],
   "source": [
    "# Labeled genotype concordance. (percent of BASE GTs with correct label) (akin to recall)"
   ]
  },
  {
   "cell_type": "markdown",
   "id": "0fcfab6a",
   "metadata": {},
   "source": [
    "Supplementary will be the opposite - predicted GT percent. Which will show 'if the genotyper says it's REF, it is ref N % of the time\n",
    "akin to specificity\n",
    "I'm trying to say you can't use genotypes to validate SVs. Once you give the genotypers a prior, that has a stong effect on the outcome. This is particularaly true for Paragraph. So "
   ]
  },
  {
   "cell_type": "markdown",
   "id": "7ba3244d",
   "metadata": {},
   "source": [
    "- N vars per sample multipled out - how many sites we're genotyping\n",
    "- We want to see how many of the sites are filtered out\n",
    "- We want to see the overall accuracy of the remaining sites\n",
    "- We want to see the accuracy of the remaining sites by Genotype\n",
    "- We want to see the accuracy of the remaining sites by NumNeigh\n",
    "\n",
    "At the end, I want to be able to say that \n",
    "1. Short reads can genotype ~X% of SVs with a bias against those in 'dense' regions\n",
    "2. BioGraph is probably better. \n",
    "3. When genotyping (especially) with short-reads, we have to be careful about how we check the accuracy of the calller. Just doing a simple 'presence' check (and not concordance) on a single sample can greatly over-estimate the caller's performance. If you guess 'present' too frequently  you won't notice how many False you're getting because most sites are REF.\n",
    "Damn this is going to be hard to summarize.\n"
   ]
  }
 ],
 "metadata": {
  "kernelspec": {
   "display_name": "Python 3 (ipykernel)",
   "language": "python",
   "name": "python3"
  },
  "language_info": {
   "codemirror_mode": {
    "name": "ipython",
    "version": 3
   },
   "file_extension": ".py",
   "mimetype": "text/x-python",
   "name": "python",
   "nbconvert_exporter": "python",
   "pygments_lexer": "ipython3",
   "version": "3.8.6"
  },
  "toc": {
   "base_numbering": 1,
   "nav_menu": {},
   "number_sections": true,
   "sideBar": true,
   "skip_h1_title": false,
   "title_cell": "Table of Contents",
   "title_sidebar": "Contents",
   "toc_cell": false,
   "toc_position": {},
   "toc_section_display": true,
   "toc_window_display": false
  }
 },
 "nbformat": 4,
 "nbformat_minor": 5
}
