{
 "cells": [
  {
   "cell_type": "markdown",
   "metadata": {},
   "source": [
    "Jasmine and svimmer don't preserve genotype information from the input VCFs, so AF couldn't be measured\n",
    "\n",
    "The average Allele Frequency of all variants in these samples is 0.11270 (exact exact)  \n",
    "The average AF of SNPs in these samples is 0.14684  \n",
    "The average AF of SVs in gnomad_v2.1_sv.sites.vcf.gz is 0.01464  \n",
    "The average AF of DELs in nomad_v2.1_sv.sites.vcf.gz is 0.01469  "
   ]
  },
  {
   "cell_type": "code",
   "execution_count": 1,
   "metadata": {},
   "outputs": [],
   "source": [
    "import joblib\n",
    "import pandas as pd\n",
    "import seaborn as sb\n",
    "import matplotlib.pyplot as plt\n",
    "import numpy as np\n",
    "\n",
    "data = pd.read_csv(\"../stats/other_af_summary.txt\", sep='\\t')\n",
    "refmt = []\n",
    "for pos, d in data.iterrows():\n",
    "    for name, col in [('TOT', 'total'),\n",
    "                      ('DEL', 'del'),\n",
    "                     ('INS', 'ins')]:\n",
    "        refmt.append([d[\"reference\"], d[\"merge\"], name, d[col + '_af'], d[col + '_cnt']])\n",
    "refmt = pd.DataFrame(refmt, columns =['reference', 'merge', 'svtype', 'af', 'cnt'])\n",
    "refmt[\"merge\"] = refmt[\"merge\"].map({'exact': 'Exact',\n",
    "                                     'jasmine': 'Jasmine',\n",
    "                                     'naive': 'Naive',\n",
    "                                     'survivor': \"SURVIVOR\",\n",
    "                                     'truvari': \"Truvari\"})\n",
    "merge_order = ['Exact', 'Truvari', 'Jasmine', 'Naive', 'SURVIVOR']"
   ]
  },
  {
   "cell_type": "code",
   "execution_count": 9,
   "metadata": {},
   "outputs": [
    {
     "data": {
      "text/plain": [
       "svtype\n",
       "DEL     38502.666667\n",
       "INS     83516.333333\n",
       "TOT    122019.000000\n",
       "dtype: float64"
      ]
     },
     "execution_count": 9,
     "metadata": {},
     "output_type": "execute_result"
    }
   ],
   "source": [
    "x = refmt.groupby(['merge', 'svtype'])['cnt'].mean().unstack()\n",
    "x.loc[\"Truvari\"] - x.loc[\"SURVIVOR\"]"
   ]
  },
  {
   "cell_type": "code",
   "execution_count": 11,
   "metadata": {},
   "outputs": [
    {
     "data": {
      "text/html": [
       "<div>\n",
       "<style scoped>\n",
       "    .dataframe tbody tr th:only-of-type {\n",
       "        vertical-align: middle;\n",
       "    }\n",
       "\n",
       "    .dataframe tbody tr th {\n",
       "        vertical-align: top;\n",
       "    }\n",
       "\n",
       "    .dataframe thead th {\n",
       "        text-align: right;\n",
       "    }\n",
       "</style>\n",
       "<table border=\"1\" class=\"dataframe\">\n",
       "  <thead>\n",
       "    <tr style=\"text-align: right;\">\n",
       "      <th>svtype</th>\n",
       "      <th>DEL</th>\n",
       "      <th>INS</th>\n",
       "      <th>TOT</th>\n",
       "    </tr>\n",
       "    <tr>\n",
       "      <th>merge</th>\n",
       "      <th></th>\n",
       "      <th></th>\n",
       "      <th></th>\n",
       "    </tr>\n",
       "  </thead>\n",
       "  <tbody>\n",
       "    <tr>\n",
       "      <th>Exact</th>\n",
       "      <td>0.073933</td>\n",
       "      <td>0.037345</td>\n",
       "      <td>0.046945</td>\n",
       "    </tr>\n",
       "    <tr>\n",
       "      <th>Jasmine</th>\n",
       "      <td>0.120637</td>\n",
       "      <td>0.116564</td>\n",
       "      <td>0.118497</td>\n",
       "    </tr>\n",
       "    <tr>\n",
       "      <th>Naive</th>\n",
       "      <td>0.125417</td>\n",
       "      <td>0.125272</td>\n",
       "      <td>0.125578</td>\n",
       "    </tr>\n",
       "    <tr>\n",
       "      <th>SURVIVOR</th>\n",
       "      <td>0.169759</td>\n",
       "      <td>0.172318</td>\n",
       "      <td>0.171528</td>\n",
       "    </tr>\n",
       "    <tr>\n",
       "      <th>Truvari</th>\n",
       "      <td>0.093350</td>\n",
       "      <td>0.071087</td>\n",
       "      <td>0.078949</td>\n",
       "    </tr>\n",
       "  </tbody>\n",
       "</table>\n",
       "</div>"
      ],
      "text/plain": [
       "svtype         DEL       INS       TOT\n",
       "merge                                 \n",
       "Exact     0.073933  0.037345  0.046945\n",
       "Jasmine   0.120637  0.116564  0.118497\n",
       "Naive     0.125417  0.125272  0.125578\n",
       "SURVIVOR  0.169759  0.172318  0.171528\n",
       "Truvari   0.093350  0.071087  0.078949"
      ]
     },
     "execution_count": 11,
     "metadata": {},
     "output_type": "execute_result"
    }
   ],
   "source": [
    "x = refmt.groupby(['merge', 'svtype'])['af'].mean().unstack()\n",
    "x"
   ]
  },
  {
   "cell_type": "code",
   "execution_count": 14,
   "metadata": {},
   "outputs": [],
   "source": [
    "j = refmt.groupby(['reference', 'merge', 'svtype'])[\"cnt\"].sum()\n",
    "k = refmt.groupby(['reference', 'merge', 'svtype'])[\"af\"].mean()\n",
    "pd.concat([j, k], axis=1).to_csv(\"temp.tab\", sep='\\t')"
   ]
  },
  {
   "cell_type": "code",
   "execution_count": 3,
   "metadata": {},
   "outputs": [
    {
     "data": {
      "text/plain": [
       "<AxesSubplot:xlabel='merge', ylabel='total_cnt'>"
      ]
     },
     "execution_count": 3,
     "metadata": {},
     "output_type": "execute_result"
    },
    {
     "data": {
      "image/png": "[encoded data removed]",
      "text/plain": [
       "<Figure size 432x288 with 1 Axes>"
      ]
     },
     "metadata": {
      "needs_background": "light"
     },
     "output_type": "display_data"
    }
   ],
   "source": [
    "sb.barplot(data=data, y=\"total_cnt\", x=\"merge\", hue='reference', order=merge_order)"
   ]
  },
  {
   "cell_type": "code",
   "execution_count": 35,
   "metadata": {},
   "outputs": [],
   "source": []
  },
  {
   "cell_type": "code",
   "execution_count": 75,
   "metadata": {},
   "outputs": [],
   "source": []
  },
  {
   "cell_type": "code",
   "execution_count": 91,
   "metadata": {},
   "outputs": [],
   "source": [
    "def cat_grid(cat_plot, fontticksize=10):\n",
    "    for i, ax1 in enumerate(cat_plot.axes):\n",
    "        for ax in ax1:\n",
    "            #ax.set_title(position_names[i],fontdict=font) # set title    \n",
    "            #ax.set_ylim(0,9) # set y limits\n",
    "            #ax.set_yticks(np.arange(0,9,1)) # set number of y ticks\n",
    "            #ax.set_xlabel('') # set x label\n",
    "\n",
    "            # call the tick labels of the x and y axes\n",
    "            #for tick in ax.xaxis.get_ticklabels():\n",
    "            #    tick.set(rotation=-15) # set tick rotation\n",
    "            #    tick.set_fontsize(fontticksize) # set tick font size\n",
    "            #    tick.set_fontweight('bold') # set tick font weight\n",
    "            #for tick in ax.yaxis.get_ticklabels():\n",
    "            #    tick.set_fontsize(fontticksize)\n",
    "            #    tick.set(rotation=0)\n",
    "            #    tick.set_fontweight('bold')#\n",
    "\n",
    "            # put labels on top of bar that represents the count.  Adjust x-axis and height here (follow the arrows)\n",
    "            #                                                              |                  |\n",
    "            #for p in ax.patches: #                                         V                  V\n",
    "            #    ax.annotate('{:1.0f}'.format(p.get_height()), (p.get_x()-0.2, p.get_height()+10),fontsize=fontticksize, fontweight='bold')\n",
    "\n",
    "            # set the major y axis grid to specific linewidth\n",
    "            ax.grid(b=True,which='major',axis='y', linewidth=.8)\n",
    "            # bring the bars to be in front of the gridlines for better visibility\n",
    "            ax.set_axisbelow(True)"
   ]
  },
  {
   "cell_type": "code",
   "execution_count": 92,
   "metadata": {
    "scrolled": false
   },
   "outputs": [
    {
     "data": {
      "text/plain": [
       "<Figure size 1080x720 with 0 Axes>"
      ]
     },
     "metadata": {},
     "output_type": "display_data"
    },
    {
     "data": {
      "image/png": "[encoded data removed]",
      "text/plain": [
       "<Figure size 1063.5x288 with 5 Axes>"
      ]
     },
     "metadata": {
      "needs_background": "light"
     },
     "output_type": "display_data"
    },
    {
     "data": {
      "image/png": "[encoded data removed]",
      "text/plain": [
       "<Figure size 1063.5x288 with 5 Axes>"
      ]
     },
     "metadata": {
      "needs_background": "light"
     },
     "output_type": "display_data"
    }
   ],
   "source": [
    "hues = [\"DEL\", \"INS\"] #, \"TOT\"]\n",
    "plt.figure(dpi=180)\n",
    "p = sb.catplot(data=refmt, kind=\"bar\",\n",
    "           col='merge',\n",
    "           y=\"cnt\", x=\"reference\", \n",
    "           col_order=merge_order, \n",
    "           hue='svtype',\n",
    "           hue_order=hues,\n",
    "          height=4, aspect=.7)\n",
    "p.set(ylabel=\"SV Count\")\n",
    "sb.despine()\n",
    "cat_grid(p)\n",
    "plt.show()\n",
    "\n",
    "p = sb.catplot(data=refmt, kind=\"bar\",\n",
    "           col='merge',\n",
    "           y=\"af\", x=\"reference\", \n",
    "           col_order=merge_order, \n",
    "           hue='svtype',\n",
    "           hue_order=hues,\n",
    "          height=4, aspect=.7)\n",
    "sb.despine()\n",
    "cat_grid(p)\n",
    "hide = p.set(ylabel=\"Mean AF\")"
   ]
  },
  {
   "cell_type": "code",
   "execution_count": 52,
   "metadata": {},
   "outputs": [
    {
     "name": "stderr",
     "output_type": "stream",
     "text": [
      "/var/folders/jv/tx_f68p54vv6wf2ylmpjnwkr0000gn/T/ipykernel_27929/1107819628.py:2: FutureWarning: Dropping of nuisance columns in DataFrame reductions (with 'numeric_only=None') is deprecated; in a future version this will raise TypeError.  Select only valid columns before calling the reduction.\n",
      "  view[view[\"merge\"] == 'truvari'].mean() - view[view[\"merge\"] == 'survivor'].mean()\n"
     ]
    },
    {
     "data": {
      "text/plain": [
       "af         -0.092578\n",
       "cnt    122019.000000\n",
       "dtype: float64"
      ]
     },
     "execution_count": 52,
     "metadata": {},
     "output_type": "execute_result"
    }
   ],
   "source": [
    "view = refmt[refmt[\"svtype\"] == 'TOT']\n",
    "view[view[\"merge\"] == 'truvari'].mean() - view[view[\"merge\"] == 'survivor'].mean()"
   ]
  },
  {
   "cell_type": "code",
   "execution_count": 53,
   "metadata": {},
   "outputs": [
    {
     "data": {
      "text/html": [
       "<div>\n",
       "<style scoped>\n",
       "    .dataframe tbody tr th:only-of-type {\n",
       "        vertical-align: middle;\n",
       "    }\n",
       "\n",
       "    .dataframe tbody tr th {\n",
       "        vertical-align: top;\n",
       "    }\n",
       "\n",
       "    .dataframe thead th {\n",
       "        text-align: right;\n",
       "    }\n",
       "</style>\n",
       "<table border=\"1\" class=\"dataframe\">\n",
       "  <thead>\n",
       "    <tr style=\"text-align: right;\">\n",
       "      <th></th>\n",
       "      <th>reference</th>\n",
       "      <th>merge</th>\n",
       "      <th>svtype</th>\n",
       "      <th>af</th>\n",
       "      <th>cnt</th>\n",
       "    </tr>\n",
       "  </thead>\n",
       "  <tbody>\n",
       "    <tr>\n",
       "      <th>0</th>\n",
       "      <td>hg19</td>\n",
       "      <td>exact</td>\n",
       "      <td>TOT</td>\n",
       "      <td>0.048182</td>\n",
       "      <td>339891</td>\n",
       "    </tr>\n",
       "    <tr>\n",
       "      <th>3</th>\n",
       "      <td>hg19</td>\n",
       "      <td>jasmine</td>\n",
       "      <td>TOT</td>\n",
       "      <td>0.130125</td>\n",
       "      <td>125841</td>\n",
       "    </tr>\n",
       "    <tr>\n",
       "      <th>6</th>\n",
       "      <td>hg19</td>\n",
       "      <td>naive</td>\n",
       "      <td>TOT</td>\n",
       "      <td>0.139705</td>\n",
       "      <td>105759</td>\n",
       "    </tr>\n",
       "    <tr>\n",
       "      <th>9</th>\n",
       "      <td>hg19</td>\n",
       "      <td>survivor</td>\n",
       "      <td>TOT</td>\n",
       "      <td>0.188413</td>\n",
       "      <td>71845</td>\n",
       "    </tr>\n",
       "    <tr>\n",
       "      <th>12</th>\n",
       "      <td>hg19</td>\n",
       "      <td>truvari</td>\n",
       "      <td>TOT</td>\n",
       "      <td>0.084581</td>\n",
       "      <td>190899</td>\n",
       "    </tr>\n",
       "    <tr>\n",
       "      <th>15</th>\n",
       "      <td>grch38</td>\n",
       "      <td>exact</td>\n",
       "      <td>TOT</td>\n",
       "      <td>0.048049</td>\n",
       "      <td>347201</td>\n",
       "    </tr>\n",
       "    <tr>\n",
       "      <th>18</th>\n",
       "      <td>grch38</td>\n",
       "      <td>jasmine</td>\n",
       "      <td>TOT</td>\n",
       "      <td>0.128532</td>\n",
       "      <td>129744</td>\n",
       "    </tr>\n",
       "    <tr>\n",
       "      <th>21</th>\n",
       "      <td>grch38</td>\n",
       "      <td>naive</td>\n",
       "      <td>TOT</td>\n",
       "      <td>0.137607</td>\n",
       "      <td>109404</td>\n",
       "    </tr>\n",
       "    <tr>\n",
       "      <th>24</th>\n",
       "      <td>grch38</td>\n",
       "      <td>survivor</td>\n",
       "      <td>TOT</td>\n",
       "      <td>0.185490</td>\n",
       "      <td>74288</td>\n",
       "    </tr>\n",
       "    <tr>\n",
       "      <th>27</th>\n",
       "      <td>grch38</td>\n",
       "      <td>truvari</td>\n",
       "      <td>TOT</td>\n",
       "      <td>0.084041</td>\n",
       "      <td>195742</td>\n",
       "    </tr>\n",
       "    <tr>\n",
       "      <th>30</th>\n",
       "      <td>chm13</td>\n",
       "      <td>exact</td>\n",
       "      <td>TOT</td>\n",
       "      <td>0.044603</td>\n",
       "      <td>329967</td>\n",
       "    </tr>\n",
       "    <tr>\n",
       "      <th>33</th>\n",
       "      <td>chm13</td>\n",
       "      <td>jasmine</td>\n",
       "      <td>TOT</td>\n",
       "      <td>0.096833</td>\n",
       "      <td>151975</td>\n",
       "    </tr>\n",
       "    <tr>\n",
       "      <th>36</th>\n",
       "      <td>chm13</td>\n",
       "      <td>naive</td>\n",
       "      <td>TOT</td>\n",
       "      <td>0.099423</td>\n",
       "      <td>137594</td>\n",
       "    </tr>\n",
       "    <tr>\n",
       "      <th>39</th>\n",
       "      <td>chm13</td>\n",
       "      <td>truvari</td>\n",
       "      <td>TOT</td>\n",
       "      <td>0.068226</td>\n",
       "      <td>212699</td>\n",
       "    </tr>\n",
       "    <tr>\n",
       "      <th>42</th>\n",
       "      <td>chm13</td>\n",
       "      <td>survivor</td>\n",
       "      <td>TOT</td>\n",
       "      <td>0.140680</td>\n",
       "      <td>87150</td>\n",
       "    </tr>\n",
       "  </tbody>\n",
       "</table>\n",
       "</div>"
      ],
      "text/plain": [
       "   reference     merge svtype        af     cnt\n",
       "0       hg19     exact    TOT  0.048182  339891\n",
       "3       hg19   jasmine    TOT  0.130125  125841\n",
       "6       hg19     naive    TOT  0.139705  105759\n",
       "9       hg19  survivor    TOT  0.188413   71845\n",
       "12      hg19   truvari    TOT  0.084581  190899\n",
       "15    grch38     exact    TOT  0.048049  347201\n",
       "18    grch38   jasmine    TOT  0.128532  129744\n",
       "21    grch38     naive    TOT  0.137607  109404\n",
       "24    grch38  survivor    TOT  0.185490   74288\n",
       "27    grch38   truvari    TOT  0.084041  195742\n",
       "30     chm13     exact    TOT  0.044603  329967\n",
       "33     chm13   jasmine    TOT  0.096833  151975\n",
       "36     chm13     naive    TOT  0.099423  137594\n",
       "39     chm13   truvari    TOT  0.068226  212699\n",
       "42     chm13  survivor    TOT  0.140680   87150"
      ]
     },
     "execution_count": 53,
     "metadata": {},
     "output_type": "execute_result"
    }
   ],
   "source": [
    "view"
   ]
  },
  {
   "cell_type": "code",
   "execution_count": null,
   "metadata": {},
   "outputs": [],
   "source": []
  }
 ],
 "metadata": {
  "kernelspec": {
   "display_name": "Python 3 (ipykernel)",
   "language": "python",
   "name": "python3"
  },
  "language_info": {
   "codemirror_mode": {
    "name": "ipython",
    "version": 3
   },
   "file_extension": ".py",
   "mimetype": "text/x-python",
   "name": "python",
   "nbconvert_exporter": "python",
   "pygments_lexer": "ipython3",
   "version": "3.8.6"
  },
  "toc": {
   "base_numbering": 1,
   "nav_menu": {},
   "number_sections": true,
   "sideBar": true,
   "skip_h1_title": false,
   "title_cell": "Table of Contents",
   "title_sidebar": "Contents",
   "toc_cell": false,
   "toc_position": {},
   "toc_section_display": true,
   "toc_window_display": false
  }
 },
 "nbformat": 4,
 "nbformat_minor": 2
}
