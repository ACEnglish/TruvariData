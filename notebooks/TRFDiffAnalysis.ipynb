{
 "cells": [
  {
   "cell_type": "code",
   "execution_count": 88,
   "id": "d39bfb09",
   "metadata": {},
   "outputs": [],
   "source": [
    "import sys\n",
    "import hashlib\n",
    "import pandas as pd\n",
    "import seaborn as sb\n",
    "\n",
    "\n",
    "def load_txt(fn):\n",
    "    d = pd.read_csv(fn, sep=\"\\t\", header=None)\n",
    "    d.columns = [\"CHROM\", \"POS\", \"NeighId\", \"SVLEN\", \"SVTYPE\",\n",
    "                 \"TRFcopies\", \"TRFDiff\", \"TRFrepeat\", \"ALT\"]\n",
    "    def mk_key(line):\n",
    "        result = hashlib.md5(f\"{line['CHROM']} {line['POS']} {line['ALT']} {line['SVTYPE']}\".encode())\n",
    "        return result.hexdigest()\n",
    "\n",
    "    d = d[(d[\"SVTYPE\"] == 'INS') & (d[\"TRFDiff\"] != \".\")]\n",
    "    d[\"var key\"] = d.apply(mk_key, axis=1)\n",
    "    d[\"TRFDiff\"] = d[\"TRFDiff\"].astype(float)\n",
    "    d.set_index(\"var key\", inplace=True)\n",
    "    return d\n",
    "\n",
    "def make_summary(base, other):\n",
    "    cmp = base.join(other, rsuffix='cmp')\n",
    "    parts = []\n",
    "    for pos, i in enumerate(cmp.groupby([\"NeighId\", \"TRFrepeat\"])):\n",
    "        base = i[1][\"TRFDiff\"].value_counts()\n",
    "        other = i[1][\"TRFDiffcmp\"].value_counts(dropna=False)\n",
    "        view = pd.concat([base, other], axis=1)\n",
    "        view.reset_index(inplace=True)\n",
    "        view.columns = [\"copynum\", \"exactcnt\", \"othercnt\"]\n",
    "        view[\"loc key\"] = pos\n",
    "        parts.append(view)\n",
    "    data = pd.concat(parts)\n",
    "    rows = []\n",
    "    for key, ck in data.groupby(\"loc key\"):\n",
    "        rows.append([key, \n",
    "                     (~ck[\"exactcnt\"].isna()).sum(),\n",
    "                     (ck[\"exactcnt\"] > 1).sum(),\n",
    "                     len(ck[(ck[\"othercnt\"] > 1) & (~ck[\"exactcnt\"].isna())]),\n",
    "                     (ck[\"othercnt\"].isna()).sum()])\n",
    "    sum_dat = pd.DataFrame(rows, columns=[\"loc key\", \n",
    "                                          \"exact_cn_cnt\",\n",
    "                                          \"exact_redund_vars\",\n",
    "                                          \"other_redund_vars\",\n",
    "                                          \"other_missing_cnt\"]\n",
    "                          )\n",
    "    return sum_dat"
   ]
  },
  {
   "cell_type": "code",
   "execution_count": 91,
   "id": "c5339f3c",
   "metadata": {},
   "outputs": [],
   "source": [
    "exa = load_txt(\"trf_data/exact.txt.gz\")\n",
    "tru = load_txt(\"trf_data/truvari.txt.gz\")\n",
    "jas = load_txt(\"trf_data/jasmine.txt.gz\")\n",
    "sur = load_txt(\"trf_data/survivor.txt.gz\")\n",
    "nav = load_txt(\"trf_data/naive.txt.gz\")"
   ]
  },
  {
   "cell_type": "code",
   "execution_count": 92,
   "id": "7924a6f3",
   "metadata": {},
   "outputs": [],
   "source": [
    "tru_sum = make_summary(exa, tru)\n",
    "jas_sum = make_summary(exa, jas)\n",
    "sur_sum = make_summary(exa, sur)\n",
    "nav_sum = make_summary(exa, nav)"
   ]
  },
  {
   "cell_type": "code",
   "execution_count": 233,
   "id": "f570f270",
   "metadata": {},
   "outputs": [
    {
     "data": {
      "text/plain": [
       "[Text(0.5, 1.0, 'Pre-Merge INS Tandem Repeat Loci'),\n",
       " Text(0.5, 0, 'Redundant Vars'),\n",
       " None,\n",
       " (0.0, 50.0)]"
      ]
     },
     "execution_count": 233,
     "metadata": {},
     "output_type": "execute_result"
    },
    {
     "data": {
      "image/png": "[encoded data removed]",
      "text/plain": [
       "<Figure size 432x288 with 1 Axes>"
      ]
     },
     "metadata": {},
     "output_type": "display_data"
    }
   ],
   "source": [
    "p = sb.histplot(data=tru_sum, x=\"exact_redund_vars\", binwidth=1)\n",
    "p.set(title=\"Pre-Merge INS Tandem Repeat Loci\", xlabel=\"Redundant Vars\", yscale=\"log\", xlim=(0,50))"
   ]
  },
  {
   "cell_type": "code",
   "execution_count": 241,
   "id": "705e42d0",
   "metadata": {},
   "outputs": [
    {
     "data": {
      "text/html": [
       "<div>\n",
       "<style scoped>\n",
       "    .dataframe tbody tr th:only-of-type {\n",
       "        vertical-align: middle;\n",
       "    }\n",
       "\n",
       "    .dataframe tbody tr th {\n",
       "        vertical-align: top;\n",
       "    }\n",
       "\n",
       "    .dataframe thead th {\n",
       "        text-align: right;\n",
       "    }\n",
       "</style>\n",
       "<table border=\"1\" class=\"dataframe\">\n",
       "  <thead>\n",
       "    <tr style=\"text-align: right;\">\n",
       "      <th></th>\n",
       "      <th>loc key</th>\n",
       "      <th>exact_cn_cnt</th>\n",
       "      <th>exact_redund_vars</th>\n",
       "      <th>other_redund_vars</th>\n",
       "      <th>other_missing_cnt</th>\n",
       "    </tr>\n",
       "  </thead>\n",
       "  <tbody>\n",
       "    <tr>\n",
       "      <th>0</th>\n",
       "      <td>0</td>\n",
       "      <td>5</td>\n",
       "      <td>2</td>\n",
       "      <td>0</td>\n",
       "      <td>1</td>\n",
       "    </tr>\n",
       "    <tr>\n",
       "      <th>1</th>\n",
       "      <td>1</td>\n",
       "      <td>2</td>\n",
       "      <td>0</td>\n",
       "      <td>0</td>\n",
       "      <td>0</td>\n",
       "    </tr>\n",
       "    <tr>\n",
       "      <th>2</th>\n",
       "      <td>2</td>\n",
       "      <td>7</td>\n",
       "      <td>0</td>\n",
       "      <td>0</td>\n",
       "      <td>2</td>\n",
       "    </tr>\n",
       "    <tr>\n",
       "      <th>3</th>\n",
       "      <td>3</td>\n",
       "      <td>2</td>\n",
       "      <td>2</td>\n",
       "      <td>0</td>\n",
       "      <td>0</td>\n",
       "    </tr>\n",
       "    <tr>\n",
       "      <th>4</th>\n",
       "      <td>4</td>\n",
       "      <td>10</td>\n",
       "      <td>3</td>\n",
       "      <td>1</td>\n",
       "      <td>0</td>\n",
       "    </tr>\n",
       "  </tbody>\n",
       "</table>\n",
       "</div>"
      ],
      "text/plain": [
       "   loc key  exact_cn_cnt  exact_redund_vars  other_redund_vars  \\\n",
       "0        0             5                  2                  0   \n",
       "1        1             2                  0                  0   \n",
       "2        2             7                  0                  0   \n",
       "3        3             2                  2                  0   \n",
       "4        4            10                  3                  1   \n",
       "\n",
       "   other_missing_cnt  \n",
       "0                  1  \n",
       "1                  0  \n",
       "2                  2  \n",
       "3                  0  \n",
       "4                  0  "
      ]
     },
     "execution_count": 241,
     "metadata": {},
     "output_type": "execute_result"
    }
   ],
   "source": [
    "tru_sum.head()"
   ]
  },
  {
   "cell_type": "code",
   "execution_count": 245,
   "id": "2f4defca",
   "metadata": {},
   "outputs": [
    {
     "name": "stdout",
     "output_type": "stream",
     "text": [
      "Total INS TR Loci 20207\n",
      "Non-Redundant Sites: 11151\n",
      "Non-Redundant Num Variants: 20071\n",
      "Redund Sites: 9056\n",
      "Redund Num Variants: 91500\n"
     ]
    }
   ],
   "source": [
    "print(\"Total INS TR Loci\", len(tru_sum[\"exact_redund_vars\"]))\n",
    "non_redund = tru_sum[tru_sum[\"exact_redund_vars\"] == 0]\n",
    "print(\"Non-Redundant Sites:\", len(non_redund))\n",
    "print(\"Non-Redundant Num Variants:\", non_redund[\"exact_cn_cnt\"].sum())\n",
    "\n",
    "has_redund = tru_sum[tru_sum[\"exact_redund_vars\"] != 0]\n",
    "print(\"Redund Sites:\", len(has_redund))\n",
    "print(\"Redund Num Variants:\", has_redund[[\"exact_redund_vars\", \"exact_cn_cnt\"]].sum().sum())"
   ]
  },
  {
   "cell_type": "code",
   "execution_count": 144,
   "id": "317da5b3",
   "metadata": {},
   "outputs": [
    {
     "data": {
      "text/plain": [
       "[Text(0.5, 1.0, 'Truvari-Merge Tandem Repeat Loci Count'),\n",
       " Text(0.5, 0, 'Redundant Vars'),\n",
       " None,\n",
       " (0.0, 50.0)]"
      ]
     },
     "execution_count": 144,
     "metadata": {},
     "output_type": "execute_result"
    },
    {
     "data": {
      "image/png": "[encoded data removed]",
      "text/plain": [
       "<Figure size 432x288 with 1 Axes>"
      ]
     },
     "metadata": {
      "needs_background": "light"
     },
     "output_type": "display_data"
    }
   ],
   "source": [
    "p = sb.histplot(data=tru_sum, x=\"other_redund_vars\", binwidth=1)\n",
    "p.set(title=\"Truvari-Merge Tandem Repeat Loci Count\", xlabel=\"Redundant Vars\", yscale=\"log\", xlim=(0,50))"
   ]
  },
  {
   "cell_type": "code",
   "execution_count": 143,
   "id": "7657b52b",
   "metadata": {},
   "outputs": [
    {
     "data": {
      "text/plain": [
       "[Text(0.5, 1.0, 'Jasmine-Merge Tandem Repeat Loci Count'),\n",
       " Text(0.5, 0, 'Redundant Vars'),\n",
       " None,\n",
       " (0.0, 50.0)]"
      ]
     },
     "execution_count": 143,
     "metadata": {},
     "output_type": "execute_result"
    },
    {
     "data": {
      "image/png": "[encoded data removed]",
      "text/plain": [
       "<Figure size 432x288 with 1 Axes>"
      ]
     },
     "metadata": {
      "needs_background": "light"
     },
     "output_type": "display_data"
    }
   ],
   "source": [
    "p = sb.histplot(data=jas_sum, x=\"other_redund_vars\", binwidth=1)\n",
    "p.set(title=\"Jasmine-Merge Tandem Repeat Loci Count\", xlabel=\"Redundant Vars\", yscale=\"log\", xlim=(0,50))"
   ]
  },
  {
   "cell_type": "code",
   "execution_count": 146,
   "id": "f548bfcf",
   "metadata": {},
   "outputs": [
    {
     "data": {
      "text/plain": [
       "[Text(0.5, 1.0, 'Survivor-Merge Tandem Repeat Loci Count'),\n",
       " Text(0.5, 0, 'Redundant Vars'),\n",
       " None,\n",
       " (0.0, 50.0)]"
      ]
     },
     "execution_count": 146,
     "metadata": {},
     "output_type": "execute_result"
    },
    {
     "data": {
      "image/png": "[encoded data removed]",
      "text/plain": [
       "<Figure size 432x288 with 1 Axes>"
      ]
     },
     "metadata": {
      "needs_background": "light"
     },
     "output_type": "display_data"
    }
   ],
   "source": [
    "p = sb.histplot(data=sur_sum, x=\"other_redund_vars\", binwidth=1)\n",
    "p.set(title=\"Survivor-Merge Tandem Repeat Loci Count\", xlabel=\"Redundant Vars\", yscale=\"log\", xlim=(0,50))"
   ]
  },
  {
   "cell_type": "code",
   "execution_count": 147,
   "id": "f57e598f",
   "metadata": {},
   "outputs": [
    {
     "data": {
      "text/plain": [
       "[Text(0.5, 1.0, 'Naive-Merge Tandem Repeat Loci Count'),\n",
       " Text(0.5, 0, 'Redundant Vars'),\n",
       " None,\n",
       " (0.0, 50.0)]"
      ]
     },
     "execution_count": 147,
     "metadata": {},
     "output_type": "execute_result"
    },
    {
     "data": {
      "image/png": "[encoded data removed]",
      "text/plain": [
       "<Figure size 432x288 with 1 Axes>"
      ]
     },
     "metadata": {
      "needs_background": "light"
     },
     "output_type": "display_data"
    }
   ],
   "source": [
    "p = sb.histplot(data=nav_sum, x=\"other_redund_vars\", binwidth=1)\n",
    "p.set(title=\"Naive-Merge Tandem Repeat Loci Count\", xlabel=\"Redundant Vars\", yscale=\"log\", xlim=(0,50))"
   ]
  },
  {
   "cell_type": "code",
   "execution_count": 151,
   "id": "e36ddcdb",
   "metadata": {},
   "outputs": [
    {
     "data": {
      "text/plain": [
       "[Text(0.5, 1.0, 'Naive-Merge Tandem Repeat Loci Count'),\n",
       " Text(0.5, 0, 'Redundant Vars'),\n",
       " None,\n",
       " (0.0, 50.0)]"
      ]
     },
     "execution_count": 151,
     "metadata": {},
     "output_type": "execute_result"
    },
    {
     "data": {
      "image/png": "[encoded data removed]",
      "text/plain": [
       "<Figure size 432x288 with 1 Axes>"
      ]
     },
     "metadata": {
      "needs_background": "light"
     },
     "output_type": "display_data"
    }
   ],
   "source": []
  },
  {
   "cell_type": "code",
   "execution_count": 156,
   "id": "2f4051b6",
   "metadata": {},
   "outputs": [
    {
     "data": {
      "text/html": [
       "<div>\n",
       "<style scoped>\n",
       "    .dataframe tbody tr th:only-of-type {\n",
       "        vertical-align: middle;\n",
       "    }\n",
       "\n",
       "    .dataframe tbody tr th {\n",
       "        vertical-align: top;\n",
       "    }\n",
       "\n",
       "    .dataframe thead th {\n",
       "        text-align: right;\n",
       "    }\n",
       "</style>\n",
       "<table border=\"1\" class=\"dataframe\">\n",
       "  <thead>\n",
       "    <tr style=\"text-align: right;\">\n",
       "      <th></th>\n",
       "      <th>loc key</th>\n",
       "      <th>exact_cn_cnt</th>\n",
       "      <th>exact_redund_vars</th>\n",
       "      <th>other_redund_vars</th>\n",
       "      <th>other_missing_cnt</th>\n",
       "    </tr>\n",
       "  </thead>\n",
       "  <tbody>\n",
       "    <tr>\n",
       "      <th>0</th>\n",
       "      <td>0</td>\n",
       "      <td>5</td>\n",
       "      <td>2</td>\n",
       "      <td>0</td>\n",
       "      <td>1</td>\n",
       "    </tr>\n",
       "    <tr>\n",
       "      <th>1</th>\n",
       "      <td>1</td>\n",
       "      <td>2</td>\n",
       "      <td>0</td>\n",
       "      <td>0</td>\n",
       "      <td>0</td>\n",
       "    </tr>\n",
       "    <tr>\n",
       "      <th>2</th>\n",
       "      <td>2</td>\n",
       "      <td>7</td>\n",
       "      <td>0</td>\n",
       "      <td>0</td>\n",
       "      <td>2</td>\n",
       "    </tr>\n",
       "    <tr>\n",
       "      <th>3</th>\n",
       "      <td>3</td>\n",
       "      <td>2</td>\n",
       "      <td>2</td>\n",
       "      <td>0</td>\n",
       "      <td>0</td>\n",
       "    </tr>\n",
       "    <tr>\n",
       "      <th>4</th>\n",
       "      <td>4</td>\n",
       "      <td>10</td>\n",
       "      <td>3</td>\n",
       "      <td>1</td>\n",
       "      <td>0</td>\n",
       "    </tr>\n",
       "  </tbody>\n",
       "</table>\n",
       "</div>"
      ],
      "text/plain": [
       "   loc key  exact_cn_cnt  exact_redund_vars  other_redund_vars  \\\n",
       "0        0             5                  2                  0   \n",
       "1        1             2                  0                  0   \n",
       "2        2             7                  0                  0   \n",
       "3        3             2                  2                  0   \n",
       "4        4            10                  3                  1   \n",
       "\n",
       "   other_missing_cnt  \n",
       "0                  1  \n",
       "1                  0  \n",
       "2                  2  \n",
       "3                  0  \n",
       "4                  0  "
      ]
     },
     "execution_count": 156,
     "metadata": {},
     "output_type": "execute_result"
    }
   ],
   "source": [
    "tru_sum.head()"
   ]
  },
  {
   "cell_type": "code",
   "execution_count": 228,
   "id": "549776a6",
   "metadata": {},
   "outputs": [],
   "source": [
    "redund_data = []\n",
    "for name, i in [(\"tru\", tru_sum), (\"jas\", jas_sum), (\"sur\", sur_sum), (\"nav\", nav_sum)]:\n",
    "    p = i[i[\"exact_redund_vars\"] != 0][[\"other_redund_vars\"]]\n",
    "    p[\"name\"] = name\n",
    "    redund_data.append(p)\n",
    "redund_data = pd.concat(redund_data).reset_index()\n",
    "\n",
    "missing_data = []\n",
    "for name, i in [(\"tru\", tru_sum), (\"jas\", jas_sum), (\"sur\", sur_sum), (\"nav\", nav_sum)]:\n",
    "    p = i[i[\"exact_redund_vars\"] != 0][[\"other_missing_cnt\"]]\n",
    "    p[\"name\"] = name\n",
    "    missing_data.append(p)\n",
    "missing_data = pd.concat(missing_data).reset_index()"
   ]
  },
  {
   "cell_type": "code",
   "execution_count": 250,
   "id": "7cadff1c",
   "metadata": {},
   "outputs": [],
   "source": [
    "redund_data[\"redund_bins\"] = pd.cut(redund_data[\"other_redund_vars\"], [0, 1, 100], \n",
    "                               labels=[\"None\", \"Any\"], right=False)"
   ]
  },
  {
   "cell_type": "code",
   "execution_count": 254,
   "id": "10d900ee",
   "metadata": {},
   "outputs": [
    {
     "data": {
      "image/png": "[encoded data removed]",
      "text/plain": [
       "<Figure size 432x288 with 1 Axes>"
      ]
     },
     "metadata": {},
     "output_type": "display_data"
    }
   ],
   "source": [
    "p = sb.countplot(data=redund_data, x=\"redund_bins\", hue=\"name\")#, multiple='stack')\n",
    "sb.move_legend(p, bbox_to_anchor=(1.02, 1), loc='upper left', borderaxespad=0)\n",
    "hide = p.set(xlabel=\"Redundant Calls\",\n",
    "             title=\"Redundant Calls Per-Locus\",\n",
    "             ylabel=\"Loci Count\")"
   ]
  },
  {
   "cell_type": "code",
   "execution_count": 346,
   "id": "9f96f5f9",
   "metadata": {},
   "outputs": [
    {
     "data": {
      "text/html": [
       "<div>\n",
       "<style scoped>\n",
       "    .dataframe tbody tr th:only-of-type {\n",
       "        vertical-align: middle;\n",
       "    }\n",
       "\n",
       "    .dataframe tbody tr th {\n",
       "        vertical-align: top;\n",
       "    }\n",
       "\n",
       "    .dataframe thead th {\n",
       "        text-align: right;\n",
       "    }\n",
       "</style>\n",
       "<table border=\"1\" class=\"dataframe\">\n",
       "  <thead>\n",
       "    <tr style=\"text-align: right;\">\n",
       "      <th></th>\n",
       "      <th>count</th>\n",
       "      <th>mean</th>\n",
       "      <th>std</th>\n",
       "      <th>min</th>\n",
       "      <th>50%</th>\n",
       "      <th>99%</th>\n",
       "      <th>max</th>\n",
       "    </tr>\n",
       "    <tr>\n",
       "      <th>name</th>\n",
       "      <th></th>\n",
       "      <th></th>\n",
       "      <th></th>\n",
       "      <th></th>\n",
       "      <th></th>\n",
       "      <th></th>\n",
       "      <th></th>\n",
       "    </tr>\n",
       "  </thead>\n",
       "  <tbody>\n",
       "    <tr>\n",
       "      <th>tru</th>\n",
       "      <td>9056.0</td>\n",
       "      <td>1.885159</td>\n",
       "      <td>3.702441</td>\n",
       "      <td>0.0</td>\n",
       "      <td>0.0</td>\n",
       "      <td>19.00</td>\n",
       "      <td>55.0</td>\n",
       "    </tr>\n",
       "    <tr>\n",
       "      <th>jas</th>\n",
       "      <td>9056.0</td>\n",
       "      <td>4.430543</td>\n",
       "      <td>6.607730</td>\n",
       "      <td>0.0</td>\n",
       "      <td>2.0</td>\n",
       "      <td>31.00</td>\n",
       "      <td>108.0</td>\n",
       "    </tr>\n",
       "    <tr>\n",
       "      <th>nav</th>\n",
       "      <td>9056.0</td>\n",
       "      <td>5.482774</td>\n",
       "      <td>7.927469</td>\n",
       "      <td>0.0</td>\n",
       "      <td>3.0</td>\n",
       "      <td>37.00</td>\n",
       "      <td>118.0</td>\n",
       "    </tr>\n",
       "    <tr>\n",
       "      <th>sur</th>\n",
       "      <td>9057.0</td>\n",
       "      <td>7.123772</td>\n",
       "      <td>8.215060</td>\n",
       "      <td>0.0</td>\n",
       "      <td>4.0</td>\n",
       "      <td>39.44</td>\n",
       "      <td>120.0</td>\n",
       "    </tr>\n",
       "  </tbody>\n",
       "</table>\n",
       "</div>"
      ],
      "text/plain": [
       "       count      mean       std  min  50%    99%    max\n",
       "name                                                    \n",
       "tru   9056.0  1.885159  3.702441  0.0  0.0  19.00   55.0\n",
       "jas   9056.0  4.430543  6.607730  0.0  2.0  31.00  108.0\n",
       "nav   9056.0  5.482774  7.927469  0.0  3.0  37.00  118.0\n",
       "sur   9057.0  7.123772  8.215060  0.0  4.0  39.44  120.0"
      ]
     },
     "execution_count": 346,
     "metadata": {},
     "output_type": "execute_result"
    }
   ],
   "source": [
    "missing_data.groupby([\"name\"])[\"other_missing_cnt\"].describe(percentiles=[0.5, 0.99]).sort_values('mean')"
   ]
  },
  {
   "cell_type": "code",
   "execution_count": 258,
   "id": "1fe405f5",
   "metadata": {},
   "outputs": [
    {
     "data": {
      "image/png": "[encoded data removed]",
      "text/plain": [
       "<Figure size 432x288 with 1 Axes>"
      ]
     },
     "metadata": {},
     "output_type": "display_data"
    }
   ],
   "source": [
    "p = sb.boxplot(data=missing_data, y=\"other_missing_cnt\", x=\"name\", showfliers=False)\n",
    "hide = p.set(title=\"Missing Variants Per-Locus\", xlabel=\"Merge\", ylabel=\"Missing Count\")"
   ]
  },
  {
   "cell_type": "code",
   "execution_count": 259,
   "id": "c3511383",
   "metadata": {},
   "outputs": [
    {
     "data": {
      "image/png": "[encoded data removed]",
      "text/plain": [
       "<Figure size 432x288 with 1 Axes>"
      ]
     },
     "metadata": {},
     "output_type": "display_data"
    }
   ],
   "source": [
    "p = sb.boxplot(data=missing_data, x=\"other_missing_cnt\", y=\"name\", showfliers=False)\n",
    "hide = p.set(title=\"Missing Variants Per-Locus\", ylabel=\"Merge\", xlabel=\"Missing Count\")"
   ]
  },
  {
   "cell_type": "code",
   "execution_count": 262,
   "id": "6d5de44c",
   "metadata": {},
   "outputs": [
    {
     "data": {
      "text/plain": [
       "[None]"
      ]
     },
     "execution_count": 262,
     "metadata": {},
     "output_type": "execute_result"
    },
    {
     "data": {
      "image/png": "[encoded data removed]",
      "text/plain": [
       "<Figure size 432x288 with 1 Axes>"
      ]
     },
     "metadata": {},
     "output_type": "display_data"
    }
   ],
   "source": [
    "sb.boxplot(data=new_ps, x=\"other_redund_vars\", y=\"name\").set(xscale=\"log\")"
   ]
  }
 ],
 "metadata": {
  "kernelspec": {
   "display_name": "Python 3 (ipykernel)",
   "language": "python",
   "name": "python3"
  },
  "language_info": {
   "codemirror_mode": {
    "name": "ipython",
    "version": 3
   },
   "file_extension": ".py",
   "mimetype": "text/x-python",
   "name": "python",
   "nbconvert_exporter": "python",
   "pygments_lexer": "ipython3",
   "version": "3.8.6"
  },
  "toc": {
   "base_numbering": 1,
   "nav_menu": {},
   "number_sections": true,
   "sideBar": true,
   "skip_h1_title": false,
   "title_cell": "Table of Contents",
   "title_sidebar": "Contents",
   "toc_cell": false,
   "toc_position": {},
   "toc_section_display": true,
   "toc_window_display": false
  }
 },
 "nbformat": 4,
 "nbformat_minor": 5
}
