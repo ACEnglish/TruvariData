{
 "cells": [
  {
   "cell_type": "code",
   "execution_count": 2,
   "id": "53ceda5a",
   "metadata": {},
   "outputs": [],
   "source": [
    "import pandas as pd\n",
    "import joblib\n",
    "import seaborn as sb\n",
    "import matplotlib.pyplot as plt\n",
    "import truvari\n",
    "import scipy.stats as scistat\n",
    "sb.set()"
   ]
  },
  {
   "cell_type": "code",
   "execution_count": 3,
   "id": "0c830a24",
   "metadata": {},
   "outputs": [],
   "source": [
    "data = joblib.load(\"../temp/grch38_HG01596.bench.jl\")"
   ]
  },
  {
   "cell_type": "code",
   "execution_count": 4,
   "id": "925c0a52",
   "metadata": {},
   "outputs": [],
   "source": [
    "data[\"TRF\"] = data[\"TRF\"].where(~data[\"TRF\"].isna(), False)\n",
    "base_calls = data[data[\"state\"].isin([\"tpbase\", \"fn\"])].copy()\n",
    "base_calls[\"TRFrepeat_len\"] = base_calls[\"TRFrepeat\"].apply(lambda x: len(x) if x else 0)\n",
    "base_calls[\"Repeat\"] = base_calls[\"RM_clsfam\"].where(base_calls[\"RM_score\"] >= 225, None).apply(lambda x: x.split('/')[0] if x else None)\n",
    "base_calls[\"NumNeighbor_bins\"] = pd.cut(base_calls[\"NumNeighbors\"], \n",
    "                                        bins=[0, 1, 5, 10, 50, base_calls[\"NumNeighbors\"].max()], \n",
    "                                        labels=[\"0\", \"1\", \"(1,5]\", \"(5,10]\", \"10+\"])\n",
    "\n"
   ]
  },
  {
   "cell_type": "code",
   "execution_count": 5,
   "id": "d028dcef",
   "metadata": {},
   "outputs": [
    {
     "data": {
      "text/html": [
       "<div>\n",
       "<style scoped>\n",
       "    .dataframe tbody tr th:only-of-type {\n",
       "        vertical-align: middle;\n",
       "    }\n",
       "\n",
       "    .dataframe tbody tr th {\n",
       "        vertical-align: top;\n",
       "    }\n",
       "\n",
       "    .dataframe thead th {\n",
       "        text-align: right;\n",
       "    }\n",
       "</style>\n",
       "<table border=\"1\" class=\"dataframe\">\n",
       "  <thead>\n",
       "    <tr style=\"text-align: right;\">\n",
       "      <th></th>\n",
       "      <th>TRF</th>\n",
       "      <th>False</th>\n",
       "      <th>True</th>\n",
       "    </tr>\n",
       "    <tr>\n",
       "      <th>svtype</th>\n",
       "      <th>state</th>\n",
       "      <th></th>\n",
       "      <th></th>\n",
       "    </tr>\n",
       "  </thead>\n",
       "  <tbody>\n",
       "    <tr>\n",
       "      <th rowspan=\"4\" valign=\"top\">DEL</th>\n",
       "      <th>tpbase</th>\n",
       "      <td>1062</td>\n",
       "      <td>2726</td>\n",
       "    </tr>\n",
       "    <tr>\n",
       "      <th>fn</th>\n",
       "      <td>112</td>\n",
       "      <td>1951</td>\n",
       "    </tr>\n",
       "    <tr>\n",
       "      <th>tp</th>\n",
       "      <td>0</td>\n",
       "      <td>0</td>\n",
       "    </tr>\n",
       "    <tr>\n",
       "      <th>fp</th>\n",
       "      <td>0</td>\n",
       "      <td>0</td>\n",
       "    </tr>\n",
       "    <tr>\n",
       "      <th rowspan=\"4\" valign=\"top\">INS</th>\n",
       "      <th>tpbase</th>\n",
       "      <td>1871</td>\n",
       "      <td>1461</td>\n",
       "    </tr>\n",
       "    <tr>\n",
       "      <th>fn</th>\n",
       "      <td>1290</td>\n",
       "      <td>4062</td>\n",
       "    </tr>\n",
       "    <tr>\n",
       "      <th>tp</th>\n",
       "      <td>0</td>\n",
       "      <td>0</td>\n",
       "    </tr>\n",
       "    <tr>\n",
       "      <th>fp</th>\n",
       "      <td>0</td>\n",
       "      <td>0</td>\n",
       "    </tr>\n",
       "  </tbody>\n",
       "</table>\n",
       "</div>"
      ],
      "text/plain": [
       "TRF            False  True\n",
       "svtype state              \n",
       "DEL    tpbase   1062  2726\n",
       "       fn        112  1951\n",
       "       tp          0     0\n",
       "       fp          0     0\n",
       "INS    tpbase   1871  1461\n",
       "       fn       1290  4062\n",
       "       tp          0     0\n",
       "       fp          0     0"
      ]
     },
     "execution_count": 5,
     "metadata": {},
     "output_type": "execute_result"
    }
   ],
   "source": [
    "base_calls[base_calls[\"DIPCOV\"]].groupby([\"svtype\", \"state\", \"TRF\"]).size().unstack()[\"DEL\":\"INS\"]"
   ]
  },
  {
   "cell_type": "code",
   "execution_count": 6,
   "id": "94f3637e",
   "metadata": {},
   "outputs": [
    {
     "data": {
      "text/plain": [
       "<seaborn.axisgrid.FacetGrid at 0x12854c3a0>"
      ]
     },
     "execution_count": 6,
     "metadata": {},
     "output_type": "execute_result"
    },
    {
     "data": {
      "image/png": "[encoded data removed]",
      "text/plain": [
       "<Figure size 424.1x360 with 1 Axes>"
      ]
     },
     "metadata": {},
     "output_type": "display_data"
    }
   ],
   "source": [
    "p = sb.displot(data=base_calls.reset_index(),\n",
    "               x=\"TRFrepeat_len\", hue=\"svtype\")#, kind=\"kde\")\n",
    "p.set(yscale=\"log\")"
   ]
  },
  {
   "cell_type": "code",
   "execution_count": 7,
   "id": "fa34abbf",
   "metadata": {},
   "outputs": [
    {
     "data": {
      "text/plain": [
       "<seaborn.axisgrid.FacetGrid at 0x1290930a0>"
      ]
     },
     "execution_count": 7,
     "metadata": {},
     "output_type": "execute_result"
    },
    {
     "data": {
      "image/png": "[encoded data removed]",
      "text/plain": [
       "<Figure size 432.725x360 with 1 Axes>"
      ]
     },
     "metadata": {},
     "output_type": "display_data"
    }
   ],
   "source": [
    "p = sb.displot(data=base_calls[base_calls[\"svtype\"] == \"INS\"].reset_index(),\n",
    "               x=\"TRFrepeat_len\", hue=\"state\", kind=\"kde\")\n",
    "p.set(yscale=\"log\", xlim=(0, 500))"
   ]
  },
  {
   "cell_type": "code",
   "execution_count": 8,
   "id": "bb02f6c9",
   "metadata": {},
   "outputs": [
    {
     "data": {
      "text/plain": [
       "<seaborn.axisgrid.FacetGrid at 0x12b20e610>"
      ]
     },
     "execution_count": 8,
     "metadata": {},
     "output_type": "execute_result"
    },
    {
     "data": {
      "image/png": "[encoded data removed]",
      "text/plain": [
       "<Figure size 432.725x360 with 1 Axes>"
      ]
     },
     "metadata": {},
     "output_type": "display_data"
    }
   ],
   "source": [
    "p = sb.displot(data=base_calls[base_calls[\"svtype\"] == \"DEL\"].reset_index(),\n",
    "               x=\"TRFrepeat_len\", hue=\"state\", kind=\"kde\")\n",
    "p.set(yscale=\"log\", xlim=(0, 500))"
   ]
  },
  {
   "cell_type": "code",
   "execution_count": 9,
   "id": "6e678cbf",
   "metadata": {},
   "outputs": [
    {
     "data": {
      "text/html": [
       "<div>\n",
       "<style scoped>\n",
       "    .dataframe tbody tr th:only-of-type {\n",
       "        vertical-align: middle;\n",
       "    }\n",
       "\n",
       "    .dataframe tbody tr th {\n",
       "        vertical-align: top;\n",
       "    }\n",
       "\n",
       "    .dataframe thead th {\n",
       "        text-align: right;\n",
       "    }\n",
       "</style>\n",
       "<table border=\"1\" class=\"dataframe\">\n",
       "  <thead>\n",
       "    <tr style=\"text-align: right;\">\n",
       "      <th></th>\n",
       "      <th>state</th>\n",
       "      <th>tpbase</th>\n",
       "      <th>fn</th>\n",
       "      <th>tp</th>\n",
       "      <th>fp</th>\n",
       "    </tr>\n",
       "    <tr>\n",
       "      <th>Repeat</th>\n",
       "      <th>TRF</th>\n",
       "      <th></th>\n",
       "      <th></th>\n",
       "      <th></th>\n",
       "      <th></th>\n",
       "    </tr>\n",
       "  </thead>\n",
       "  <tbody>\n",
       "    <tr>\n",
       "      <th rowspan=\"2\" valign=\"top\">DNA</th>\n",
       "      <th>False</th>\n",
       "      <td>3</td>\n",
       "      <td>0</td>\n",
       "      <td>0</td>\n",
       "      <td>0</td>\n",
       "    </tr>\n",
       "    <tr>\n",
       "      <th>True</th>\n",
       "      <td>1</td>\n",
       "      <td>0</td>\n",
       "      <td>0</td>\n",
       "      <td>0</td>\n",
       "    </tr>\n",
       "    <tr>\n",
       "      <th rowspan=\"2\" valign=\"top\">LINE</th>\n",
       "      <th>False</th>\n",
       "      <td>83</td>\n",
       "      <td>169</td>\n",
       "      <td>0</td>\n",
       "      <td>0</td>\n",
       "    </tr>\n",
       "    <tr>\n",
       "      <th>True</th>\n",
       "      <td>58</td>\n",
       "      <td>23</td>\n",
       "      <td>0</td>\n",
       "      <td>0</td>\n",
       "    </tr>\n",
       "    <tr>\n",
       "      <th rowspan=\"2\" valign=\"top\">LTR</th>\n",
       "      <th>False</th>\n",
       "      <td>26</td>\n",
       "      <td>8</td>\n",
       "      <td>0</td>\n",
       "      <td>0</td>\n",
       "    </tr>\n",
       "    <tr>\n",
       "      <th>True</th>\n",
       "      <td>5</td>\n",
       "      <td>13</td>\n",
       "      <td>0</td>\n",
       "      <td>0</td>\n",
       "    </tr>\n",
       "    <tr>\n",
       "      <th rowspan=\"2\" valign=\"top\">Low_complexity</th>\n",
       "      <th>False</th>\n",
       "      <td>0</td>\n",
       "      <td>14</td>\n",
       "      <td>0</td>\n",
       "      <td>0</td>\n",
       "    </tr>\n",
       "    <tr>\n",
       "      <th>True</th>\n",
       "      <td>0</td>\n",
       "      <td>44</td>\n",
       "      <td>0</td>\n",
       "      <td>0</td>\n",
       "    </tr>\n",
       "    <tr>\n",
       "      <th rowspan=\"2\" valign=\"top\">Retroposon</th>\n",
       "      <th>False</th>\n",
       "      <td>0</td>\n",
       "      <td>38</td>\n",
       "      <td>0</td>\n",
       "      <td>0</td>\n",
       "    </tr>\n",
       "    <tr>\n",
       "      <th>True</th>\n",
       "      <td>33</td>\n",
       "      <td>14</td>\n",
       "      <td>0</td>\n",
       "      <td>0</td>\n",
       "    </tr>\n",
       "    <tr>\n",
       "      <th rowspan=\"2\" valign=\"top\">SINE</th>\n",
       "      <th>False</th>\n",
       "      <td>912</td>\n",
       "      <td>591</td>\n",
       "      <td>0</td>\n",
       "      <td>0</td>\n",
       "    </tr>\n",
       "    <tr>\n",
       "      <th>True</th>\n",
       "      <td>647</td>\n",
       "      <td>83</td>\n",
       "      <td>0</td>\n",
       "      <td>0</td>\n",
       "    </tr>\n",
       "    <tr>\n",
       "      <th rowspan=\"2\" valign=\"top\">Satellite</th>\n",
       "      <th>False</th>\n",
       "      <td>0</td>\n",
       "      <td>1</td>\n",
       "      <td>0</td>\n",
       "      <td>0</td>\n",
       "    </tr>\n",
       "    <tr>\n",
       "      <th>True</th>\n",
       "      <td>1</td>\n",
       "      <td>2</td>\n",
       "      <td>0</td>\n",
       "      <td>0</td>\n",
       "    </tr>\n",
       "    <tr>\n",
       "      <th rowspan=\"2\" valign=\"top\">Simple_repeat</th>\n",
       "      <th>False</th>\n",
       "      <td>7</td>\n",
       "      <td>94</td>\n",
       "      <td>0</td>\n",
       "      <td>0</td>\n",
       "    </tr>\n",
       "    <tr>\n",
       "      <th>True</th>\n",
       "      <td>72</td>\n",
       "      <td>445</td>\n",
       "      <td>0</td>\n",
       "      <td>0</td>\n",
       "    </tr>\n",
       "    <tr>\n",
       "      <th rowspan=\"2\" valign=\"top\">rRNA</th>\n",
       "      <th>False</th>\n",
       "      <td>0</td>\n",
       "      <td>1</td>\n",
       "      <td>0</td>\n",
       "      <td>0</td>\n",
       "    </tr>\n",
       "    <tr>\n",
       "      <th>True</th>\n",
       "      <td>0</td>\n",
       "      <td>0</td>\n",
       "      <td>0</td>\n",
       "      <td>0</td>\n",
       "    </tr>\n",
       "  </tbody>\n",
       "</table>\n",
       "</div>"
      ],
      "text/plain": [
       "state                 tpbase   fn  tp  fp\n",
       "Repeat         TRF                       \n",
       "DNA            False       3    0   0   0\n",
       "               True        1    0   0   0\n",
       "LINE           False      83  169   0   0\n",
       "               True       58   23   0   0\n",
       "LTR            False      26    8   0   0\n",
       "               True        5   13   0   0\n",
       "Low_complexity False       0   14   0   0\n",
       "               True        0   44   0   0\n",
       "Retroposon     False       0   38   0   0\n",
       "               True       33   14   0   0\n",
       "SINE           False     912  591   0   0\n",
       "               True      647   83   0   0\n",
       "Satellite      False       0    1   0   0\n",
       "               True        1    2   0   0\n",
       "Simple_repeat  False       7   94   0   0\n",
       "               True       72  445   0   0\n",
       "rRNA           False       0    1   0   0\n",
       "               True        0    0   0   0"
      ]
     },
     "execution_count": 9,
     "metadata": {},
     "output_type": "execute_result"
    }
   ],
   "source": [
    "base_calls.groupby([\"Repeat\", \"TRF\", \"state\"]).size().sort_values(ascending=False).unstack()"
   ]
  },
  {
   "cell_type": "code",
   "execution_count": 11,
   "id": "8daef318",
   "metadata": {},
   "outputs": [
    {
     "data": {
      "text/plain": [
       "<seaborn.axisgrid.FacetGrid at 0x127304be0>"
      ]
     },
     "execution_count": 11,
     "metadata": {},
     "output_type": "execute_result"
    },
    {
     "data": {
      "image/png": "[encoded data removed]",
      "text/plain": [
       "<Figure size 432.725x360 with 1 Axes>"
      ]
     },
     "metadata": {},
     "output_type": "display_data"
    }
   ],
   "source": [
    "p = sb.displot(data=base_calls.reset_index(), x=\"NumNeighbors\", hue=\"state\", kind=\"kde\")\n",
    "p.set(xlim=(0, 50))#, yscale=\"log\")"
   ]
  },
  {
   "cell_type": "code",
   "execution_count": 13,
   "id": "0ade228a",
   "metadata": {},
   "outputs": [
    {
     "data": {
      "text/html": [
       "<div>\n",
       "<style scoped>\n",
       "    .dataframe tbody tr th:only-of-type {\n",
       "        vertical-align: middle;\n",
       "    }\n",
       "\n",
       "    .dataframe tbody tr th {\n",
       "        vertical-align: top;\n",
       "    }\n",
       "\n",
       "    .dataframe thead th {\n",
       "        text-align: right;\n",
       "    }\n",
       "</style>\n",
       "<table border=\"1\" class=\"dataframe\">\n",
       "  <thead>\n",
       "    <tr style=\"text-align: right;\">\n",
       "      <th>state</th>\n",
       "      <th>tpbase</th>\n",
       "      <th>fn</th>\n",
       "      <th>tp</th>\n",
       "      <th>fp</th>\n",
       "    </tr>\n",
       "    <tr>\n",
       "      <th>NumNeighbor_bins</th>\n",
       "      <th></th>\n",
       "      <th></th>\n",
       "      <th></th>\n",
       "      <th></th>\n",
       "    </tr>\n",
       "  </thead>\n",
       "  <tbody>\n",
       "    <tr>\n",
       "      <th>0</th>\n",
       "      <td>1063</td>\n",
       "      <td>1153</td>\n",
       "      <td>0</td>\n",
       "      <td>0</td>\n",
       "    </tr>\n",
       "    <tr>\n",
       "      <th>1</th>\n",
       "      <td>1609</td>\n",
       "      <td>3109</td>\n",
       "      <td>0</td>\n",
       "      <td>0</td>\n",
       "    </tr>\n",
       "    <tr>\n",
       "      <th>(1,5]</th>\n",
       "      <td>667</td>\n",
       "      <td>2544</td>\n",
       "      <td>0</td>\n",
       "      <td>0</td>\n",
       "    </tr>\n",
       "    <tr>\n",
       "      <th>(5,10]</th>\n",
       "      <td>570</td>\n",
       "      <td>5004</td>\n",
       "      <td>0</td>\n",
       "      <td>0</td>\n",
       "    </tr>\n",
       "    <tr>\n",
       "      <th>10+</th>\n",
       "      <td>21</td>\n",
       "      <td>850</td>\n",
       "      <td>0</td>\n",
       "      <td>0</td>\n",
       "    </tr>\n",
       "  </tbody>\n",
       "</table>\n",
       "</div>"
      ],
      "text/plain": [
       "state             tpbase    fn  tp  fp\n",
       "NumNeighbor_bins                      \n",
       "0                   1063  1153   0   0\n",
       "1                   1609  3109   0   0\n",
       "(1,5]                667  2544   0   0\n",
       "(5,10]               570  5004   0   0\n",
       "10+                   21   850   0   0"
      ]
     },
     "execution_count": 13,
     "metadata": {},
     "output_type": "execute_result"
    }
   ],
   "source": [
    "base_calls.groupby([\"NumNeighbor_bins\", \"state\"]).size().unstack()"
   ]
  },
  {
   "cell_type": "code",
   "execution_count": 14,
   "id": "224b2ae7",
   "metadata": {},
   "outputs": [
    {
     "data": {
      "text/plain": [
       "True     14535\n",
       "False     9845\n",
       "Name: DIPCOV, dtype: int64"
      ]
     },
     "execution_count": 14,
     "metadata": {},
     "output_type": "execute_result"
    }
   ],
   "source": [
    "base_calls[\"DIPCOV\"].value_counts()"
   ]
  },
  {
   "cell_type": "code",
   "execution_count": 15,
   "id": "041b0611",
   "metadata": {},
   "outputs": [
    {
     "data": {
      "text/plain": [
       "[(0.0, 100.0)]"
      ]
     },
     "execution_count": 15,
     "metadata": {},
     "output_type": "execute_result"
    },
    {
     "data": {
      "image/png": "[encoded data removed]",
      "text/plain": [
       "<Figure size 432x288 with 1 Axes>"
      ]
     },
     "metadata": {},
     "output_type": "display_data"
    }
   ],
   "source": [
    "p = sb.boxplot(data=base_calls, x=\"TRFcopies\", y=\"state\", hue=\"svtype\")\n",
    "p.set(xlim=(0, 100))"
   ]
  },
  {
   "cell_type": "code",
   "execution_count": 16,
   "id": "a04acb9a",
   "metadata": {},
   "outputs": [
    {
     "data": {
      "text/html": [
       "<div>\n",
       "<style scoped>\n",
       "    .dataframe tbody tr th:only-of-type {\n",
       "        vertical-align: middle;\n",
       "    }\n",
       "\n",
       "    .dataframe tbody tr th {\n",
       "        vertical-align: top;\n",
       "    }\n",
       "\n",
       "    .dataframe thead th {\n",
       "        text-align: right;\n",
       "    }\n",
       "</style>\n",
       "<table border=\"1\" class=\"dataframe\">\n",
       "  <thead>\n",
       "    <tr style=\"text-align: right;\">\n",
       "      <th></th>\n",
       "      <th></th>\n",
       "      <th>count</th>\n",
       "      <th>mean</th>\n",
       "      <th>std</th>\n",
       "      <th>min</th>\n",
       "      <th>25%</th>\n",
       "      <th>50%</th>\n",
       "      <th>75%</th>\n",
       "      <th>max</th>\n",
       "    </tr>\n",
       "    <tr>\n",
       "      <th>svtype</th>\n",
       "      <th>state</th>\n",
       "      <th></th>\n",
       "      <th></th>\n",
       "      <th></th>\n",
       "      <th></th>\n",
       "      <th></th>\n",
       "      <th></th>\n",
       "      <th></th>\n",
       "      <th></th>\n",
       "    </tr>\n",
       "  </thead>\n",
       "  <tbody>\n",
       "    <tr>\n",
       "      <th rowspan=\"2\" valign=\"top\">DEL</th>\n",
       "      <th>tpbase</th>\n",
       "      <td>3596.0</td>\n",
       "      <td>43.710285</td>\n",
       "      <td>694.062195</td>\n",
       "      <td>1.8</td>\n",
       "      <td>2.9</td>\n",
       "      <td>8.000000</td>\n",
       "      <td>27.000000</td>\n",
       "      <td>26436.599609</td>\n",
       "    </tr>\n",
       "    <tr>\n",
       "      <th>fn</th>\n",
       "      <td>4156.0</td>\n",
       "      <td>48.016724</td>\n",
       "      <td>399.423126</td>\n",
       "      <td>1.8</td>\n",
       "      <td>4.2</td>\n",
       "      <td>13.900000</td>\n",
       "      <td>34.000000</td>\n",
       "      <td>13076.400391</td>\n",
       "    </tr>\n",
       "    <tr>\n",
       "      <th rowspan=\"2\" valign=\"top\">INS</th>\n",
       "      <th>tpbase</th>\n",
       "      <td>2061.0</td>\n",
       "      <td>93.253319</td>\n",
       "      <td>876.454895</td>\n",
       "      <td>1.8</td>\n",
       "      <td>4.9</td>\n",
       "      <td>15.700000</td>\n",
       "      <td>54.799999</td>\n",
       "      <td>26436.599609</td>\n",
       "    </tr>\n",
       "    <tr>\n",
       "      <th>fn</th>\n",
       "      <td>8783.0</td>\n",
       "      <td>94.256294</td>\n",
       "      <td>546.015381</td>\n",
       "      <td>1.8</td>\n",
       "      <td>10.4</td>\n",
       "      <td>28.299999</td>\n",
       "      <td>67.949997</td>\n",
       "      <td>17060.400391</td>\n",
       "    </tr>\n",
       "  </tbody>\n",
       "</table>\n",
       "</div>"
      ],
      "text/plain": [
       "                count       mean         std  min   25%        50%        75%  \\\n",
       "svtype state                                                                    \n",
       "DEL    tpbase  3596.0  43.710285  694.062195  1.8   2.9   8.000000  27.000000   \n",
       "       fn      4156.0  48.016724  399.423126  1.8   4.2  13.900000  34.000000   \n",
       "INS    tpbase  2061.0  93.253319  876.454895  1.8   4.9  15.700000  54.799999   \n",
       "       fn      8783.0  94.256294  546.015381  1.8  10.4  28.299999  67.949997   \n",
       "\n",
       "                        max  \n",
       "svtype state                 \n",
       "DEL    tpbase  26436.599609  \n",
       "       fn      13076.400391  \n",
       "INS    tpbase  26436.599609  \n",
       "       fn      17060.400391  "
      ]
     },
     "execution_count": 16,
     "metadata": {},
     "output_type": "execute_result"
    }
   ],
   "source": [
    "base_calls.groupby([\"svtype\", \"state\"])[\"TRFcopies\"].describe()"
   ]
  },
  {
   "cell_type": "code",
   "execution_count": 17,
   "id": "0a1ce6ff",
   "metadata": {},
   "outputs": [
    {
     "data": {
      "text/plain": [
       "<seaborn.axisgrid.FacetGrid at 0x12b377be0>"
      ]
     },
     "execution_count": 17,
     "metadata": {},
     "output_type": "execute_result"
    },
    {
     "data": {
      "image/png": "[encoded data removed]",
      "text/plain": [
       "<Figure size 432.725x360 with 1 Axes>"
      ]
     },
     "metadata": {},
     "output_type": "display_data"
    }
   ],
   "source": [
    "p = sb.displot(data=base_calls.reset_index(), x=\"TRFcopies\", hue=\"state\")\n",
    "p.set(xlim=(0, 100))"
   ]
  },
  {
   "cell_type": "code",
   "execution_count": 18,
   "id": "2360fe47",
   "metadata": {},
   "outputs": [
    {
     "data": {
      "text/plain": [
       "[(0.0, 1000.0), (0.0, 500.0)]"
      ]
     },
     "execution_count": 18,
     "metadata": {},
     "output_type": "execute_result"
    },
    {
     "data": {
      "image/png": "[encoded data removed]",
      "text/plain": [
       "<Figure size 432x288 with 1 Axes>"
      ]
     },
     "metadata": {},
     "output_type": "display_data"
    }
   ],
   "source": [
    "p = sb.kdeplot(data=base_calls.reset_index(), x=\"TRFcopies\", y=\"TRFrepeat_len\", hue=\"state\")\n",
    "p.set(xlim=(0, 1000), ylim=(0, 500))"
   ]
  },
  {
   "cell_type": "code",
   "execution_count": 19,
   "id": "edf24cab",
   "metadata": {},
   "outputs": [],
   "source": [
    "subset = (base_calls[\"TRFcopies\"] <= 500) & (base_calls[\"TRFrepeat_len\"] <= 250)\n",
    "subset = base_calls[subset]"
   ]
  },
  {
   "cell_type": "code",
   "execution_count": 20,
   "id": "8c11dd38",
   "metadata": {},
   "outputs": [],
   "source": [
    "a = pd.cut(subset[\"TRFcopies\"], bins=10)\n",
    "b = pd.cut(subset[\"TRFrepeat_len\"], bins=5)"
   ]
  },
  {
   "cell_type": "code",
   "execution_count": 21,
   "id": "48ad910b",
   "metadata": {},
   "outputs": [],
   "source": [
    "j = pd.concat([a, b, subset[\"state\"]], axis=1)"
   ]
  },
  {
   "cell_type": "code",
   "execution_count": 22,
   "id": "5cf0f34e",
   "metadata": {},
   "outputs": [],
   "source": [
    "t = j[j[\"state\"] == 'tpbase'].groupby([\"TRFcopies\", \"TRFrepeat_len\"]).size()\n",
    "f = j[j[\"state\"] == 'fn'].groupby([\"TRFcopies\", \"TRFrepeat_len\"]).size()"
   ]
  },
  {
   "cell_type": "code",
   "execution_count": 23,
   "id": "4c721161",
   "metadata": {},
   "outputs": [],
   "source": [
    "x = (t / (t + f)).unstack()"
   ]
  },
  {
   "cell_type": "code",
   "execution_count": 24,
   "id": "448c8609",
   "metadata": {},
   "outputs": [
    {
     "data": {
      "text/plain": [
       "<AxesSubplot:>"
      ]
     },
     "execution_count": 24,
     "metadata": {},
     "output_type": "execute_result"
    },
    {
     "data": {
      "image/png": "[encoded data removed]",
      "text/plain": [
       "<Figure size 432x288 with 2 Axes>"
      ]
     },
     "metadata": {},
     "output_type": "display_data"
    }
   ],
   "source": [
    "sb.heatmap(x.values)"
   ]
  },
  {
   "cell_type": "code",
   "execution_count": 25,
   "id": "71960a5d",
   "metadata": {},
   "outputs": [
    {
     "data": {
      "text/html": [
       "<div>\n",
       "<style scoped>\n",
       "    .dataframe tbody tr th:only-of-type {\n",
       "        vertical-align: middle;\n",
       "    }\n",
       "\n",
       "    .dataframe tbody tr th {\n",
       "        vertical-align: top;\n",
       "    }\n",
       "\n",
       "    .dataframe thead th {\n",
       "        text-align: right;\n",
       "    }\n",
       "</style>\n",
       "<table border=\"1\" class=\"dataframe\">\n",
       "  <thead>\n",
       "    <tr style=\"text-align: right;\">\n",
       "      <th>TRFrepeat_len</th>\n",
       "      <th>(0.752, 50.6]</th>\n",
       "      <th>(50.6, 100.2]</th>\n",
       "      <th>(100.2, 149.8]</th>\n",
       "      <th>(149.8, 199.4]</th>\n",
       "      <th>(199.4, 249.0]</th>\n",
       "    </tr>\n",
       "    <tr>\n",
       "      <th>TRFcopies</th>\n",
       "      <th></th>\n",
       "      <th></th>\n",
       "      <th></th>\n",
       "      <th></th>\n",
       "      <th></th>\n",
       "    </tr>\n",
       "  </thead>\n",
       "  <tbody>\n",
       "    <tr>\n",
       "      <th>(1.302, 51.62]</th>\n",
       "      <td>0.365567</td>\n",
       "      <td>0.347209</td>\n",
       "      <td>0.295918</td>\n",
       "      <td>0.244526</td>\n",
       "      <td>0.189427</td>\n",
       "    </tr>\n",
       "    <tr>\n",
       "      <th>(51.62, 101.44]</th>\n",
       "      <td>0.192135</td>\n",
       "      <td>0.026490</td>\n",
       "      <td>0.000000</td>\n",
       "      <td>0.000000</td>\n",
       "      <td>NaN</td>\n",
       "    </tr>\n",
       "    <tr>\n",
       "      <th>(101.44, 151.26]</th>\n",
       "      <td>0.146487</td>\n",
       "      <td>0.090909</td>\n",
       "      <td>0.026316</td>\n",
       "      <td>0.333333</td>\n",
       "      <td>NaN</td>\n",
       "    </tr>\n",
       "    <tr>\n",
       "      <th>(151.26, 201.08]</th>\n",
       "      <td>0.183486</td>\n",
       "      <td>0.000000</td>\n",
       "      <td>NaN</td>\n",
       "      <td>0.200000</td>\n",
       "      <td>NaN</td>\n",
       "    </tr>\n",
       "    <tr>\n",
       "      <th>(201.08, 250.9]</th>\n",
       "      <td>0.202186</td>\n",
       "      <td>NaN</td>\n",
       "      <td>NaN</td>\n",
       "      <td>0.000000</td>\n",
       "      <td>NaN</td>\n",
       "    </tr>\n",
       "    <tr>\n",
       "      <th>(250.9, 300.72]</th>\n",
       "      <td>0.215827</td>\n",
       "      <td>0.000000</td>\n",
       "      <td>NaN</td>\n",
       "      <td>0.000000</td>\n",
       "      <td>NaN</td>\n",
       "    </tr>\n",
       "    <tr>\n",
       "      <th>(300.72, 350.54]</th>\n",
       "      <td>0.185567</td>\n",
       "      <td>NaN</td>\n",
       "      <td>NaN</td>\n",
       "      <td>0.000000</td>\n",
       "      <td>NaN</td>\n",
       "    </tr>\n",
       "    <tr>\n",
       "      <th>(350.54, 400.36]</th>\n",
       "      <td>0.175676</td>\n",
       "      <td>NaN</td>\n",
       "      <td>NaN</td>\n",
       "      <td>NaN</td>\n",
       "      <td>NaN</td>\n",
       "    </tr>\n",
       "    <tr>\n",
       "      <th>(400.36, 450.18]</th>\n",
       "      <td>0.173077</td>\n",
       "      <td>NaN</td>\n",
       "      <td>0.000000</td>\n",
       "      <td>NaN</td>\n",
       "      <td>NaN</td>\n",
       "    </tr>\n",
       "    <tr>\n",
       "      <th>(450.18, 500.0]</th>\n",
       "      <td>0.142857</td>\n",
       "      <td>NaN</td>\n",
       "      <td>0.000000</td>\n",
       "      <td>NaN</td>\n",
       "      <td>NaN</td>\n",
       "    </tr>\n",
       "  </tbody>\n",
       "</table>\n",
       "</div>"
      ],
      "text/plain": [
       "TRFrepeat_len     (0.752, 50.6]  (50.6, 100.2]  (100.2, 149.8]  \\\n",
       "TRFcopies                                                        \n",
       "(1.302, 51.62]         0.365567       0.347209        0.295918   \n",
       "(51.62, 101.44]        0.192135       0.026490        0.000000   \n",
       "(101.44, 151.26]       0.146487       0.090909        0.026316   \n",
       "(151.26, 201.08]       0.183486       0.000000             NaN   \n",
       "(201.08, 250.9]        0.202186            NaN             NaN   \n",
       "(250.9, 300.72]        0.215827       0.000000             NaN   \n",
       "(300.72, 350.54]       0.185567            NaN             NaN   \n",
       "(350.54, 400.36]       0.175676            NaN             NaN   \n",
       "(400.36, 450.18]       0.173077            NaN        0.000000   \n",
       "(450.18, 500.0]        0.142857            NaN        0.000000   \n",
       "\n",
       "TRFrepeat_len     (149.8, 199.4]  (199.4, 249.0]  \n",
       "TRFcopies                                         \n",
       "(1.302, 51.62]          0.244526        0.189427  \n",
       "(51.62, 101.44]         0.000000             NaN  \n",
       "(101.44, 151.26]        0.333333             NaN  \n",
       "(151.26, 201.08]        0.200000             NaN  \n",
       "(201.08, 250.9]         0.000000             NaN  \n",
       "(250.9, 300.72]         0.000000             NaN  \n",
       "(300.72, 350.54]        0.000000             NaN  \n",
       "(350.54, 400.36]             NaN             NaN  \n",
       "(400.36, 450.18]             NaN             NaN  \n",
       "(450.18, 500.0]              NaN             NaN  "
      ]
     },
     "execution_count": 25,
     "metadata": {},
     "output_type": "execute_result"
    }
   ],
   "source": [
    "x"
   ]
  },
  {
   "cell_type": "code",
   "execution_count": 26,
   "id": "543b1a80",
   "metadata": {},
   "outputs": [],
   "source": [
    "# As Repeat Length ncreases, the discoverability lowers."
   ]
  },
  {
   "cell_type": "code",
   "execution_count": 27,
   "id": "1e5a3811",
   "metadata": {},
   "outputs": [
    {
     "data": {
      "text/plain": [
       "[(0.0, 100.0)]"
      ]
     },
     "execution_count": 27,
     "metadata": {},
     "output_type": "execute_result"
    },
    {
     "data": {
      "image/png": "[encoded data removed]",
      "text/plain": [
       "<Figure size 432x288 with 1 Axes>"
      ]
     },
     "metadata": {},
     "output_type": "display_data"
    }
   ],
   "source": [
    "p = sb.histplot(data=base_calls.reset_index(), \n",
    "                x=\"TRFrepeat_len\", \n",
    "                hue=\"state\", \n",
    "                binwidth=5, \n",
    "                multiple=\"dodge\",\n",
    "                hue_order=[\"tpbase\", \"fn\"])\n",
    "p.set(xlim=(0,100))"
   ]
  },
  {
   "cell_type": "code",
   "execution_count": 28,
   "id": "cb7a79db",
   "metadata": {},
   "outputs": [
    {
     "data": {
      "text/plain": [
       "[(0.0, 100.0)]"
      ]
     },
     "execution_count": 28,
     "metadata": {},
     "output_type": "execute_result"
    },
    {
     "data": {
      "image/png": "[encoded data removed]",
      "text/plain": [
       "<Figure size 432x288 with 1 Axes>"
      ]
     },
     "metadata": {},
     "output_type": "display_data"
    }
   ],
   "source": [
    "p = sb.histplot(data=base_calls.reset_index(), \n",
    "                x=\"TRFcopies\", \n",
    "                hue=\"state\", \n",
    "                binwidth=5, \n",
    "                multiple=\"dodge\",\n",
    "                hue_order=[\"tpbase\", \"fn\"])\n",
    "p.set(xlim=(0,100))"
   ]
  },
  {
   "cell_type": "code",
   "execution_count": 38,
   "id": "153801cc",
   "metadata": {},
   "outputs": [],
   "source": [
    "from sklearn.feature_selection import SelectKBest, chi2"
   ]
  },
  {
   "cell_type": "code",
   "execution_count": 39,
   "id": "fe348a1b",
   "metadata": {},
   "outputs": [],
   "source": [
    "from sklearn import preprocessing"
   ]
  },
  {
   "cell_type": "code",
   "execution_count": 40,
   "id": "fe828d94",
   "metadata": {},
   "outputs": [],
   "source": [
    "le = preprocessing.LabelEncoder()\n",
    "le.fit(base_calls[\"Repeat\"].unique())\n",
    "base_calls[\"Repeat_enc\"] = le.transform(base_calls[\"Repeat\"])"
   ]
  },
  {
   "cell_type": "code",
   "execution_count": 41,
   "id": "866baea8",
   "metadata": {},
   "outputs": [],
   "source": [
    "base_calls[\"svtype_enc\"] = base_calls[\"svtype\"].cat.codes"
   ]
  },
  {
   "cell_type": "code",
   "execution_count": 42,
   "id": "43e7e9b5",
   "metadata": {},
   "outputs": [],
   "source": [
    "features = [\"svtype_enc\", \"svlen\", \"TRFrepeat_len\", \"Repeat_enc\", \"NumNeighbors\", \"TRFcopies\"]"
   ]
  },
  {
   "cell_type": "code",
   "execution_count": 43,
   "id": "096fe19a",
   "metadata": {},
   "outputs": [],
   "source": [
    "use = ~base_calls[features].isna().any(axis=1)\n",
    "subset = base_calls[use].reset_index()"
   ]
  },
  {
   "cell_type": "code",
   "execution_count": 44,
   "id": "5396072a",
   "metadata": {},
   "outputs": [],
   "source": [
    "X_new = SelectKBest(chi2, k=\"all\").fit_transform(subset[features], subset[\"state\"] == \"tpbase\")"
   ]
  },
  {
   "cell_type": "code",
   "execution_count": 45,
   "id": "3adac051",
   "metadata": {},
   "outputs": [
    {
     "data": {
      "text/plain": [
       "array([  0.58313616, 349.2196709 ,  56.20832437,   8.7179501 ,\n",
       "        12.34028823,  74.03677157])"
      ]
     },
     "execution_count": 45,
     "metadata": {},
     "output_type": "execute_result"
    }
   ],
   "source": [
    "X_new.mean(axis=0)"
   ]
  },
  {
   "cell_type": "code",
   "execution_count": 46,
   "id": "234f7ec7",
   "metadata": {},
   "outputs": [],
   "source": [
    "j = pd.Series(X_new.mean(axis=0), index=features, name=\"Feature Ranking\").reset_index()"
   ]
  },
  {
   "cell_type": "code",
   "execution_count": 47,
   "id": "c2ec547d",
   "metadata": {},
   "outputs": [
    {
     "data": {
      "text/plain": [
       "[None]"
      ]
     },
     "execution_count": 47,
     "metadata": {},
     "output_type": "execute_result"
    },
    {
     "data": {
      "image/png": "[encoded data removed]",
      "text/plain": [
       "<Figure size 432x288 with 1 Axes>"
      ]
     },
     "metadata": {},
     "output_type": "display_data"
    }
   ],
   "source": [
    "p = sb.barplot(data=j.sort_values([\"Feature Ranking\"], ascending=False), \n",
    "               y=\"index\", \n",
    "               x=\"Feature Ranking\")\n",
    "p.set(xscale=\"log\")"
   ]
  },
  {
   "cell_type": "code",
   "execution_count": 48,
   "id": "550c1266",
   "metadata": {},
   "outputs": [
    {
     "data": {
      "image/png": "[encoded data removed]",
      "text/plain": [
       "<Figure size 432x288 with 1 Axes>"
      ]
     },
     "metadata": {},
     "output_type": "display_data"
    }
   ],
   "source": [
    "sb.countplot(data=base_calls, x=\"Repeat\", hue=\"state\", hue_order=[\"tpbase\", \"fn\"])\n",
    "hide = plt.xticks(rotation=45, ha=\"right\")"
   ]
  }
 ],
 "metadata": {
  "kernelspec": {
   "display_name": "Python 3 (ipykernel)",
   "language": "python",
   "name": "python3"
  },
  "language_info": {
   "codemirror_mode": {
    "name": "ipython",
    "version": 3
   },
   "file_extension": ".py",
   "mimetype": "text/x-python",
   "name": "python",
   "nbconvert_exporter": "python",
   "pygments_lexer": "ipython3",
   "version": "3.8.6"
  },
  "toc": {
   "base_numbering": 1,
   "nav_menu": {},
   "number_sections": true,
   "sideBar": true,
   "skip_h1_title": false,
   "title_cell": "Table of Contents",
   "title_sidebar": "Contents",
   "toc_cell": false,
   "toc_position": {},
   "toc_section_display": true,
   "toc_window_display": false
  }
 },
 "nbformat": 4,
 "nbformat_minor": 5
}
